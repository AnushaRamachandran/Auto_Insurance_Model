{
 "cells": [
  {
   "cell_type": "code",
   "execution_count": 1,
   "metadata": {},
   "outputs": [],
   "source": [
    "import pandas as pd\n",
    "import numpy as np\n",
    "import matplotlib.pyplot as plt\n",
    "\n",
    "\n",
    "\n",
    "%matplotlib inline"
   ]
  },
  {
   "cell_type": "markdown",
   "metadata": {},
   "source": [
    "## Importing the CSV file"
   ]
  },
  {
   "cell_type": "code",
   "execution_count": 2,
   "metadata": {},
   "outputs": [],
   "source": [
    "df = pd.read_csv(\"G:/Internship - value momentum/insuras.csv\")"
   ]
  },
  {
   "cell_type": "code",
   "execution_count": 3,
   "metadata": {},
   "outputs": [
    {
     "data": {
      "text/plain": [
       "(204, 26)"
      ]
     },
     "execution_count": 3,
     "metadata": {},
     "output_type": "execute_result"
    }
   ],
   "source": [
    "df.shape"
   ]
  },
  {
   "cell_type": "code",
   "execution_count": 4,
   "metadata": {},
   "outputs": [
    {
     "data": {
      "text/html": [
       "<div>\n",
       "<style scoped>\n",
       "    .dataframe tbody tr th:only-of-type {\n",
       "        vertical-align: middle;\n",
       "    }\n",
       "\n",
       "    .dataframe tbody tr th {\n",
       "        vertical-align: top;\n",
       "    }\n",
       "\n",
       "    .dataframe thead th {\n",
       "        text-align: right;\n",
       "    }\n",
       "</style>\n",
       "<table border=\"1\" class=\"dataframe\">\n",
       "  <thead>\n",
       "    <tr style=\"text-align: right;\">\n",
       "      <th></th>\n",
       "      <th>Symboling</th>\n",
       "      <th>Normalized_losses</th>\n",
       "      <th>Make</th>\n",
       "      <th>Fuel_type</th>\n",
       "      <th>Aspiration</th>\n",
       "      <th>Num_of_doors</th>\n",
       "      <th>Body_style</th>\n",
       "      <th>Drive_wheels</th>\n",
       "      <th>Engine_location</th>\n",
       "      <th>Wheel_base</th>\n",
       "      <th>...</th>\n",
       "      <th>Engine_size</th>\n",
       "      <th>Fuel_system</th>\n",
       "      <th>Bore</th>\n",
       "      <th>Stroke</th>\n",
       "      <th>Compression_ratio</th>\n",
       "      <th>Horse_power</th>\n",
       "      <th>Peak_RPM</th>\n",
       "      <th>City_mpg</th>\n",
       "      <th>Highway_mpg</th>\n",
       "      <th>Price</th>\n",
       "    </tr>\n",
       "  </thead>\n",
       "  <tbody>\n",
       "    <tr>\n",
       "      <th>0</th>\n",
       "      <td>3</td>\n",
       "      <td>?</td>\n",
       "      <td>alfa-romero</td>\n",
       "      <td>gas</td>\n",
       "      <td>std</td>\n",
       "      <td>two</td>\n",
       "      <td>convertible</td>\n",
       "      <td>rwd</td>\n",
       "      <td>front</td>\n",
       "      <td>88.6</td>\n",
       "      <td>...</td>\n",
       "      <td>130</td>\n",
       "      <td>mpfi</td>\n",
       "      <td>3.47</td>\n",
       "      <td>2.68</td>\n",
       "      <td>9.0</td>\n",
       "      <td>111</td>\n",
       "      <td>5000</td>\n",
       "      <td>21</td>\n",
       "      <td>27</td>\n",
       "      <td>16500</td>\n",
       "    </tr>\n",
       "    <tr>\n",
       "      <th>1</th>\n",
       "      <td>1</td>\n",
       "      <td>?</td>\n",
       "      <td>alfa-romero</td>\n",
       "      <td>gas</td>\n",
       "      <td>std</td>\n",
       "      <td>two</td>\n",
       "      <td>hatchback</td>\n",
       "      <td>rwd</td>\n",
       "      <td>front</td>\n",
       "      <td>94.5</td>\n",
       "      <td>...</td>\n",
       "      <td>152</td>\n",
       "      <td>mpfi</td>\n",
       "      <td>2.68</td>\n",
       "      <td>3.47</td>\n",
       "      <td>9.0</td>\n",
       "      <td>154</td>\n",
       "      <td>5000</td>\n",
       "      <td>19</td>\n",
       "      <td>26</td>\n",
       "      <td>16500</td>\n",
       "    </tr>\n",
       "    <tr>\n",
       "      <th>2</th>\n",
       "      <td>2</td>\n",
       "      <td>164</td>\n",
       "      <td>audi</td>\n",
       "      <td>gas</td>\n",
       "      <td>std</td>\n",
       "      <td>four</td>\n",
       "      <td>sedan</td>\n",
       "      <td>fwd</td>\n",
       "      <td>front</td>\n",
       "      <td>99.8</td>\n",
       "      <td>...</td>\n",
       "      <td>109</td>\n",
       "      <td>mpfi</td>\n",
       "      <td>3.19</td>\n",
       "      <td>3.40</td>\n",
       "      <td>10.0</td>\n",
       "      <td>102</td>\n",
       "      <td>5500</td>\n",
       "      <td>24</td>\n",
       "      <td>30</td>\n",
       "      <td>13950</td>\n",
       "    </tr>\n",
       "    <tr>\n",
       "      <th>3</th>\n",
       "      <td>2</td>\n",
       "      <td>164</td>\n",
       "      <td>audi</td>\n",
       "      <td>gas</td>\n",
       "      <td>std</td>\n",
       "      <td>four</td>\n",
       "      <td>sedan</td>\n",
       "      <td>4wd</td>\n",
       "      <td>front</td>\n",
       "      <td>99.4</td>\n",
       "      <td>...</td>\n",
       "      <td>136</td>\n",
       "      <td>mpfi</td>\n",
       "      <td>3.19</td>\n",
       "      <td>3.40</td>\n",
       "      <td>8.0</td>\n",
       "      <td>115</td>\n",
       "      <td>5500</td>\n",
       "      <td>18</td>\n",
       "      <td>22</td>\n",
       "      <td>17450</td>\n",
       "    </tr>\n",
       "    <tr>\n",
       "      <th>4</th>\n",
       "      <td>2</td>\n",
       "      <td>?</td>\n",
       "      <td>audi</td>\n",
       "      <td>gas</td>\n",
       "      <td>std</td>\n",
       "      <td>two</td>\n",
       "      <td>sedan</td>\n",
       "      <td>fwd</td>\n",
       "      <td>front</td>\n",
       "      <td>99.8</td>\n",
       "      <td>...</td>\n",
       "      <td>136</td>\n",
       "      <td>mpfi</td>\n",
       "      <td>3.19</td>\n",
       "      <td>3.40</td>\n",
       "      <td>8.5</td>\n",
       "      <td>110</td>\n",
       "      <td>5500</td>\n",
       "      <td>19</td>\n",
       "      <td>25</td>\n",
       "      <td>15250</td>\n",
       "    </tr>\n",
       "  </tbody>\n",
       "</table>\n",
       "<p>5 rows × 26 columns</p>\n",
       "</div>"
      ],
      "text/plain": [
       "   Symboling Normalized_losses         Make Fuel_type Aspiration Num_of_doors  \\\n",
       "0          3                 ?  alfa-romero       gas        std          two   \n",
       "1          1                 ?  alfa-romero       gas        std          two   \n",
       "2          2               164         audi       gas        std         four   \n",
       "3          2               164         audi       gas        std         four   \n",
       "4          2                 ?         audi       gas        std          two   \n",
       "\n",
       "    Body_style Drive_wheels Engine_location  Wheel_base  ...    Engine_size  \\\n",
       "0  convertible          rwd           front        88.6  ...            130   \n",
       "1    hatchback          rwd           front        94.5  ...            152   \n",
       "2        sedan          fwd           front        99.8  ...            109   \n",
       "3        sedan          4wd           front        99.4  ...            136   \n",
       "4        sedan          fwd           front        99.8  ...            136   \n",
       "\n",
       "   Fuel_system  Bore  Stroke Compression_ratio Horse_power  Peak_RPM City_mpg  \\\n",
       "0         mpfi  3.47    2.68               9.0         111      5000       21   \n",
       "1         mpfi  2.68    3.47               9.0         154      5000       19   \n",
       "2         mpfi  3.19    3.40              10.0         102      5500       24   \n",
       "3         mpfi  3.19    3.40               8.0         115      5500       18   \n",
       "4         mpfi  3.19    3.40               8.5         110      5500       19   \n",
       "\n",
       "  Highway_mpg  Price  \n",
       "0          27  16500  \n",
       "1          26  16500  \n",
       "2          30  13950  \n",
       "3          22  17450  \n",
       "4          25  15250  \n",
       "\n",
       "[5 rows x 26 columns]"
      ]
     },
     "execution_count": 4,
     "metadata": {},
     "output_type": "execute_result"
    }
   ],
   "source": [
    "df.head(5)"
   ]
  },
  {
   "cell_type": "markdown",
   "metadata": {},
   "source": [
    "## Correlation Matrix"
   ]
  },
  {
   "cell_type": "code",
   "execution_count": 5,
   "metadata": {},
   "outputs": [],
   "source": [
    "\n",
    "def plot_corr(df,size=15):\n",
    "    corr = df.corr()\n",
    "    fig, ax = plt.subplots(figsize=(size,size))\n",
    "    ax.matshow(corr)\n",
    "    plt.xticks(range(corr.shape[1]), corr.columns)\n",
    "    plt.yticks(range(corr.shape[1]), corr.columns)"
   ]
  },
  {
   "cell_type": "code",
   "execution_count": 6,
   "metadata": {},
   "outputs": [
    {
     "data": {
      "image/png": "[encoded data removed]",
      "text/plain": [
       "<Figure size 1080x1080 with 1 Axes>"
      ]
     },
     "metadata": {
      "needs_background": "light"
     },
     "output_type": "display_data"
    }
   ],
   "source": [
    "plot_corr(df)"
   ]
  },
  {
   "cell_type": "code",
   "execution_count": 7,
   "metadata": {},
   "outputs": [],
   "source": [
    "del df['Highway_mpg']"
   ]
  },
  {
   "cell_type": "code",
   "execution_count": 8,
   "metadata": {},
   "outputs": [
    {
     "data": {
      "text/plain": [
       "Symboling              int64\n",
       "Normalized_losses     object\n",
       "Make                  object\n",
       "Fuel_type             object\n",
       "Aspiration            object\n",
       "Num_of_doors          object\n",
       "Body_style            object\n",
       "Drive_wheels          object\n",
       "Engine_location       object\n",
       "Wheel_base           float64\n",
       "Length               float64\n",
       "Width                float64\n",
       "Height               float64\n",
       "Curb_weight            int64\n",
       "Engine_type           object\n",
       "Num_of_cylinders      object\n",
       "Engine_size            int64\n",
       "Fuel_system           object\n",
       "Bore                  object\n",
       "Stroke                object\n",
       "Compression_ratio    float64\n",
       "Horse_power           object\n",
       "Peak_RPM              object\n",
       "City_mpg               int64\n",
       "Price                 object\n",
       "dtype: object"
      ]
     },
     "execution_count": 8,
     "metadata": {},
     "output_type": "execute_result"
    }
   ],
   "source": [
    "df.dtypes"
   ]
  },
  {
   "cell_type": "code",
   "execution_count": 9,
   "metadata": {},
   "outputs": [
    {
     "name": "stdout",
     "output_type": "stream",
     "text": [
      "<class 'pandas.core.frame.DataFrame'>\n",
      "RangeIndex: 204 entries, 0 to 203\n",
      "Data columns (total 25 columns):\n",
      "Symboling            204 non-null int64\n",
      "Normalized_losses    204 non-null object\n",
      "Make                 204 non-null object\n",
      "Fuel_type            204 non-null object\n",
      "Aspiration           204 non-null object\n",
      "Num_of_doors         204 non-null object\n",
      "Body_style           204 non-null object\n",
      "Drive_wheels         204 non-null object\n",
      "Engine_location      204 non-null object\n",
      "Wheel_base           204 non-null float64\n",
      "Length               204 non-null float64\n",
      "Width                204 non-null float64\n",
      "Height               204 non-null float64\n",
      "Curb_weight          204 non-null int64\n",
      "Engine_type          204 non-null object\n",
      "Num_of_cylinders     204 non-null object\n",
      "Engine_size          204 non-null int64\n",
      "Fuel_system          204 non-null object\n",
      "Bore                 204 non-null object\n",
      "Stroke               204 non-null object\n",
      "Compression_ratio    204 non-null float64\n",
      "Horse_power          204 non-null object\n",
      "Peak_RPM             204 non-null object\n",
      "City_mpg             204 non-null int64\n",
      "Price                204 non-null object\n",
      "dtypes: float64(5), int64(4), object(16)\n",
      "memory usage: 39.9+ KB\n"
     ]
    }
   ],
   "source": [
    "df.info()"
   ]
  },
  {
   "cell_type": "code",
   "execution_count": 10,
   "metadata": {},
   "outputs": [
    {
     "data": {
      "text/plain": [
       "False"
      ]
     },
     "execution_count": 10,
     "metadata": {},
     "output_type": "execute_result"
    }
   ],
   "source": [
    "df.isnull().values.any()"
   ]
  },
  {
   "cell_type": "markdown",
   "metadata": {},
   "source": [
    "## Replacing NULL values"
   ]
  },
  {
   "cell_type": "code",
   "execution_count": 11,
   "metadata": {},
   "outputs": [],
   "source": [
    "df['Normalized_losses'].replace('?','NaN',inplace=True)"
   ]
  },
  {
   "cell_type": "code",
   "execution_count": 12,
   "metadata": {},
   "outputs": [
    {
     "data": {
      "text/html": [
       "<div>\n",
       "<style scoped>\n",
       "    .dataframe tbody tr th:only-of-type {\n",
       "        vertical-align: middle;\n",
       "    }\n",
       "\n",
       "    .dataframe tbody tr th {\n",
       "        vertical-align: top;\n",
       "    }\n",
       "\n",
       "    .dataframe thead th {\n",
       "        text-align: right;\n",
       "    }\n",
       "</style>\n",
       "<table border=\"1\" class=\"dataframe\">\n",
       "  <thead>\n",
       "    <tr style=\"text-align: right;\">\n",
       "      <th></th>\n",
       "      <th>Symboling</th>\n",
       "      <th>Normalized_losses</th>\n",
       "      <th>Make</th>\n",
       "      <th>Fuel_type</th>\n",
       "      <th>Aspiration</th>\n",
       "      <th>Num_of_doors</th>\n",
       "      <th>Body_style</th>\n",
       "      <th>Drive_wheels</th>\n",
       "      <th>Engine_location</th>\n",
       "      <th>Wheel_base</th>\n",
       "      <th>...</th>\n",
       "      <th>Num_of_cylinders</th>\n",
       "      <th>Engine_size</th>\n",
       "      <th>Fuel_system</th>\n",
       "      <th>Bore</th>\n",
       "      <th>Stroke</th>\n",
       "      <th>Compression_ratio</th>\n",
       "      <th>Horse_power</th>\n",
       "      <th>Peak_RPM</th>\n",
       "      <th>City_mpg</th>\n",
       "      <th>Price</th>\n",
       "    </tr>\n",
       "  </thead>\n",
       "  <tbody>\n",
       "    <tr>\n",
       "      <th>0</th>\n",
       "      <td>3</td>\n",
       "      <td>NaN</td>\n",
       "      <td>alfa-romero</td>\n",
       "      <td>gas</td>\n",
       "      <td>std</td>\n",
       "      <td>two</td>\n",
       "      <td>convertible</td>\n",
       "      <td>rwd</td>\n",
       "      <td>front</td>\n",
       "      <td>88.6</td>\n",
       "      <td>...</td>\n",
       "      <td>four</td>\n",
       "      <td>130</td>\n",
       "      <td>mpfi</td>\n",
       "      <td>3.47</td>\n",
       "      <td>2.68</td>\n",
       "      <td>9.0</td>\n",
       "      <td>111</td>\n",
       "      <td>5000</td>\n",
       "      <td>21</td>\n",
       "      <td>16500</td>\n",
       "    </tr>\n",
       "    <tr>\n",
       "      <th>1</th>\n",
       "      <td>1</td>\n",
       "      <td>NaN</td>\n",
       "      <td>alfa-romero</td>\n",
       "      <td>gas</td>\n",
       "      <td>std</td>\n",
       "      <td>two</td>\n",
       "      <td>hatchback</td>\n",
       "      <td>rwd</td>\n",
       "      <td>front</td>\n",
       "      <td>94.5</td>\n",
       "      <td>...</td>\n",
       "      <td>six</td>\n",
       "      <td>152</td>\n",
       "      <td>mpfi</td>\n",
       "      <td>2.68</td>\n",
       "      <td>3.47</td>\n",
       "      <td>9.0</td>\n",
       "      <td>154</td>\n",
       "      <td>5000</td>\n",
       "      <td>19</td>\n",
       "      <td>16500</td>\n",
       "    </tr>\n",
       "    <tr>\n",
       "      <th>2</th>\n",
       "      <td>2</td>\n",
       "      <td>164</td>\n",
       "      <td>audi</td>\n",
       "      <td>gas</td>\n",
       "      <td>std</td>\n",
       "      <td>four</td>\n",
       "      <td>sedan</td>\n",
       "      <td>fwd</td>\n",
       "      <td>front</td>\n",
       "      <td>99.8</td>\n",
       "      <td>...</td>\n",
       "      <td>four</td>\n",
       "      <td>109</td>\n",
       "      <td>mpfi</td>\n",
       "      <td>3.19</td>\n",
       "      <td>3.40</td>\n",
       "      <td>10.0</td>\n",
       "      <td>102</td>\n",
       "      <td>5500</td>\n",
       "      <td>24</td>\n",
       "      <td>13950</td>\n",
       "    </tr>\n",
       "    <tr>\n",
       "      <th>3</th>\n",
       "      <td>2</td>\n",
       "      <td>164</td>\n",
       "      <td>audi</td>\n",
       "      <td>gas</td>\n",
       "      <td>std</td>\n",
       "      <td>four</td>\n",
       "      <td>sedan</td>\n",
       "      <td>4wd</td>\n",
       "      <td>front</td>\n",
       "      <td>99.4</td>\n",
       "      <td>...</td>\n",
       "      <td>five</td>\n",
       "      <td>136</td>\n",
       "      <td>mpfi</td>\n",
       "      <td>3.19</td>\n",
       "      <td>3.40</td>\n",
       "      <td>8.0</td>\n",
       "      <td>115</td>\n",
       "      <td>5500</td>\n",
       "      <td>18</td>\n",
       "      <td>17450</td>\n",
       "    </tr>\n",
       "    <tr>\n",
       "      <th>4</th>\n",
       "      <td>2</td>\n",
       "      <td>NaN</td>\n",
       "      <td>audi</td>\n",
       "      <td>gas</td>\n",
       "      <td>std</td>\n",
       "      <td>two</td>\n",
       "      <td>sedan</td>\n",
       "      <td>fwd</td>\n",
       "      <td>front</td>\n",
       "      <td>99.8</td>\n",
       "      <td>...</td>\n",
       "      <td>five</td>\n",
       "      <td>136</td>\n",
       "      <td>mpfi</td>\n",
       "      <td>3.19</td>\n",
       "      <td>3.40</td>\n",
       "      <td>8.5</td>\n",
       "      <td>110</td>\n",
       "      <td>5500</td>\n",
       "      <td>19</td>\n",
       "      <td>15250</td>\n",
       "    </tr>\n",
       "  </tbody>\n",
       "</table>\n",
       "<p>5 rows × 25 columns</p>\n",
       "</div>"
      ],
      "text/plain": [
       "   Symboling Normalized_losses         Make Fuel_type Aspiration Num_of_doors  \\\n",
       "0          3               NaN  alfa-romero       gas        std          two   \n",
       "1          1               NaN  alfa-romero       gas        std          two   \n",
       "2          2               164         audi       gas        std         four   \n",
       "3          2               164         audi       gas        std         four   \n",
       "4          2               NaN         audi       gas        std          two   \n",
       "\n",
       "    Body_style Drive_wheels Engine_location  Wheel_base  ...    \\\n",
       "0  convertible          rwd           front        88.6  ...     \n",
       "1    hatchback          rwd           front        94.5  ...     \n",
       "2        sedan          fwd           front        99.8  ...     \n",
       "3        sedan          4wd           front        99.4  ...     \n",
       "4        sedan          fwd           front        99.8  ...     \n",
       "\n",
       "   Num_of_cylinders  Engine_size  Fuel_system  Bore Stroke Compression_ratio  \\\n",
       "0              four          130         mpfi  3.47   2.68               9.0   \n",
       "1               six          152         mpfi  2.68   3.47               9.0   \n",
       "2              four          109         mpfi  3.19   3.40              10.0   \n",
       "3              five          136         mpfi  3.19   3.40               8.0   \n",
       "4              five          136         mpfi  3.19   3.40               8.5   \n",
       "\n",
       "   Horse_power Peak_RPM City_mpg  Price  \n",
       "0          111     5000       21  16500  \n",
       "1          154     5000       19  16500  \n",
       "2          102     5500       24  13950  \n",
       "3          115     5500       18  17450  \n",
       "4          110     5500       19  15250  \n",
       "\n",
       "[5 rows x 25 columns]"
      ]
     },
     "execution_count": 12,
     "metadata": {},
     "output_type": "execute_result"
    }
   ],
   "source": [
    "df.head(5)"
   ]
  },
  {
   "cell_type": "code",
   "execution_count": 13,
   "metadata": {},
   "outputs": [
    {
     "data": {
      "text/plain": [
       "False"
      ]
     },
     "execution_count": 13,
     "metadata": {},
     "output_type": "execute_result"
    }
   ],
   "source": [
    "df.isnull().values.any()"
   ]
  },
  {
   "cell_type": "markdown",
   "metadata": {},
   "source": [
    "## Binary Encoding"
   ]
  },
  {
   "cell_type": "code",
   "execution_count": 14,
   "metadata": {},
   "outputs": [],
   "source": [
    "df['Isstd'] = np.where(df.Aspiration == 'std',1,0)"
   ]
  },
  {
   "cell_type": "code",
   "execution_count": 15,
   "metadata": {},
   "outputs": [],
   "source": [
    "df['Istwo'] = np.where(df.Num_of_doors == 'two',1,0)"
   ]
  },
  {
   "cell_type": "markdown",
   "metadata": {},
   "source": []
  },
  {
   "cell_type": "markdown",
   "metadata": {},
   "source": [
    "## One-Hot Encoding"
   ]
  },
  {
   "cell_type": "code",
   "execution_count": 16,
   "metadata": {},
   "outputs": [],
   "source": [
    "df=pd.get_dummies(df,columns=['Make','Fuel_type','Body_style','Drive_wheels','Engine_location','Engine_type','Num_of_cylinders'])"
   ]
  },
  {
   "cell_type": "code",
   "execution_count": 17,
   "metadata": {},
   "outputs": [
    {
     "data": {
      "text/plain": [
       "(204, 68)"
      ]
     },
     "execution_count": 17,
     "metadata": {},
     "output_type": "execute_result"
    }
   ],
   "source": [
    "df.shape"
   ]
  },
  {
   "cell_type": "code",
   "execution_count": 18,
   "metadata": {},
   "outputs": [
    {
     "data": {
      "text/html": [
       "<div>\n",
       "<style scoped>\n",
       "    .dataframe tbody tr th:only-of-type {\n",
       "        vertical-align: middle;\n",
       "    }\n",
       "\n",
       "    .dataframe tbody tr th {\n",
       "        vertical-align: top;\n",
       "    }\n",
       "\n",
       "    .dataframe thead th {\n",
       "        text-align: right;\n",
       "    }\n",
       "</style>\n",
       "<table border=\"1\" class=\"dataframe\">\n",
       "  <thead>\n",
       "    <tr style=\"text-align: right;\">\n",
       "      <th></th>\n",
       "      <th>Symboling</th>\n",
       "      <th>Normalized_losses</th>\n",
       "      <th>Aspiration</th>\n",
       "      <th>Num_of_doors</th>\n",
       "      <th>Wheel_base</th>\n",
       "      <th>Length</th>\n",
       "      <th>Width</th>\n",
       "      <th>Height</th>\n",
       "      <th>Curb_weight</th>\n",
       "      <th>Engine_size</th>\n",
       "      <th>...</th>\n",
       "      <th>Engine_type_ohcf</th>\n",
       "      <th>Engine_type_ohcv</th>\n",
       "      <th>Engine_type_rotor</th>\n",
       "      <th>Num_of_cylinders_eight</th>\n",
       "      <th>Num_of_cylinders_five</th>\n",
       "      <th>Num_of_cylinders_four</th>\n",
       "      <th>Num_of_cylinders_six</th>\n",
       "      <th>Num_of_cylinders_three</th>\n",
       "      <th>Num_of_cylinders_twelve</th>\n",
       "      <th>Num_of_cylinders_two</th>\n",
       "    </tr>\n",
       "  </thead>\n",
       "  <tbody>\n",
       "    <tr>\n",
       "      <th>0</th>\n",
       "      <td>3</td>\n",
       "      <td>NaN</td>\n",
       "      <td>std</td>\n",
       "      <td>two</td>\n",
       "      <td>88.6</td>\n",
       "      <td>168.8</td>\n",
       "      <td>64.1</td>\n",
       "      <td>48.8</td>\n",
       "      <td>2548</td>\n",
       "      <td>130</td>\n",
       "      <td>...</td>\n",
       "      <td>0</td>\n",
       "      <td>0</td>\n",
       "      <td>0</td>\n",
       "      <td>0</td>\n",
       "      <td>0</td>\n",
       "      <td>1</td>\n",
       "      <td>0</td>\n",
       "      <td>0</td>\n",
       "      <td>0</td>\n",
       "      <td>0</td>\n",
       "    </tr>\n",
       "    <tr>\n",
       "      <th>1</th>\n",
       "      <td>1</td>\n",
       "      <td>NaN</td>\n",
       "      <td>std</td>\n",
       "      <td>two</td>\n",
       "      <td>94.5</td>\n",
       "      <td>171.2</td>\n",
       "      <td>65.5</td>\n",
       "      <td>52.4</td>\n",
       "      <td>2823</td>\n",
       "      <td>152</td>\n",
       "      <td>...</td>\n",
       "      <td>0</td>\n",
       "      <td>1</td>\n",
       "      <td>0</td>\n",
       "      <td>0</td>\n",
       "      <td>0</td>\n",
       "      <td>0</td>\n",
       "      <td>1</td>\n",
       "      <td>0</td>\n",
       "      <td>0</td>\n",
       "      <td>0</td>\n",
       "    </tr>\n",
       "    <tr>\n",
       "      <th>2</th>\n",
       "      <td>2</td>\n",
       "      <td>164</td>\n",
       "      <td>std</td>\n",
       "      <td>four</td>\n",
       "      <td>99.8</td>\n",
       "      <td>176.6</td>\n",
       "      <td>66.2</td>\n",
       "      <td>54.3</td>\n",
       "      <td>2337</td>\n",
       "      <td>109</td>\n",
       "      <td>...</td>\n",
       "      <td>0</td>\n",
       "      <td>0</td>\n",
       "      <td>0</td>\n",
       "      <td>0</td>\n",
       "      <td>0</td>\n",
       "      <td>1</td>\n",
       "      <td>0</td>\n",
       "      <td>0</td>\n",
       "      <td>0</td>\n",
       "      <td>0</td>\n",
       "    </tr>\n",
       "    <tr>\n",
       "      <th>3</th>\n",
       "      <td>2</td>\n",
       "      <td>164</td>\n",
       "      <td>std</td>\n",
       "      <td>four</td>\n",
       "      <td>99.4</td>\n",
       "      <td>176.6</td>\n",
       "      <td>66.4</td>\n",
       "      <td>54.3</td>\n",
       "      <td>2824</td>\n",
       "      <td>136</td>\n",
       "      <td>...</td>\n",
       "      <td>0</td>\n",
       "      <td>0</td>\n",
       "      <td>0</td>\n",
       "      <td>0</td>\n",
       "      <td>1</td>\n",
       "      <td>0</td>\n",
       "      <td>0</td>\n",
       "      <td>0</td>\n",
       "      <td>0</td>\n",
       "      <td>0</td>\n",
       "    </tr>\n",
       "    <tr>\n",
       "      <th>4</th>\n",
       "      <td>2</td>\n",
       "      <td>NaN</td>\n",
       "      <td>std</td>\n",
       "      <td>two</td>\n",
       "      <td>99.8</td>\n",
       "      <td>177.3</td>\n",
       "      <td>66.3</td>\n",
       "      <td>53.1</td>\n",
       "      <td>2507</td>\n",
       "      <td>136</td>\n",
       "      <td>...</td>\n",
       "      <td>0</td>\n",
       "      <td>0</td>\n",
       "      <td>0</td>\n",
       "      <td>0</td>\n",
       "      <td>1</td>\n",
       "      <td>0</td>\n",
       "      <td>0</td>\n",
       "      <td>0</td>\n",
       "      <td>0</td>\n",
       "      <td>0</td>\n",
       "    </tr>\n",
       "  </tbody>\n",
       "</table>\n",
       "<p>5 rows × 68 columns</p>\n",
       "</div>"
      ],
      "text/plain": [
       "   Symboling Normalized_losses Aspiration Num_of_doors  Wheel_base  Length  \\\n",
       "0          3               NaN        std          two        88.6   168.8   \n",
       "1          1               NaN        std          two        94.5   171.2   \n",
       "2          2               164        std         four        99.8   176.6   \n",
       "3          2               164        std         four        99.4   176.6   \n",
       "4          2               NaN        std          two        99.8   177.3   \n",
       "\n",
       "   Width  Height  Curb_weight  Engine_size          ...           \\\n",
       "0   64.1    48.8         2548          130          ...            \n",
       "1   65.5    52.4         2823          152          ...            \n",
       "2   66.2    54.3         2337          109          ...            \n",
       "3   66.4    54.3         2824          136          ...            \n",
       "4   66.3    53.1         2507          136          ...            \n",
       "\n",
       "  Engine_type_ohcf Engine_type_ohcv Engine_type_rotor  Num_of_cylinders_eight  \\\n",
       "0                0                0                 0                       0   \n",
       "1                0                1                 0                       0   \n",
       "2                0                0                 0                       0   \n",
       "3                0                0                 0                       0   \n",
       "4                0                0                 0                       0   \n",
       "\n",
       "  Num_of_cylinders_five Num_of_cylinders_four  Num_of_cylinders_six  \\\n",
       "0                     0                     1                     0   \n",
       "1                     0                     0                     1   \n",
       "2                     0                     1                     0   \n",
       "3                     1                     0                     0   \n",
       "4                     1                     0                     0   \n",
       "\n",
       "  Num_of_cylinders_three  Num_of_cylinders_twelve  Num_of_cylinders_two  \n",
       "0                      0                        0                     0  \n",
       "1                      0                        0                     0  \n",
       "2                      0                        0                     0  \n",
       "3                      0                        0                     0  \n",
       "4                      0                        0                     0  \n",
       "\n",
       "[5 rows x 68 columns]"
      ]
     },
     "execution_count": 18,
     "metadata": {},
     "output_type": "execute_result"
    }
   ],
   "source": [
    "df.head()"
   ]
  },
  {
   "cell_type": "code",
   "execution_count": 19,
   "metadata": {},
   "outputs": [],
   "source": [
    "df.replace('?','NaN',inplace=True)"
   ]
  },
  {
   "cell_type": "code",
   "execution_count": 20,
   "metadata": {},
   "outputs": [
    {
     "data": {
      "text/plain": [
       "104.22277227722772"
      ]
     },
     "execution_count": 20,
     "metadata": {},
     "output_type": "execute_result"
    }
   ],
   "source": [
    "df.Horse_power.astype(float).mean()"
   ]
  },
  {
   "cell_type": "code",
   "execution_count": 22,
   "metadata": {},
   "outputs": [],
   "source": [
    "df.Stroke=df.Stroke.astype(float)\n",
    "df.Price=df.Price.astype(float)"
   ]
  },
  {
   "cell_type": "code",
   "execution_count": 22,
   "metadata": {},
   "outputs": [
    {
     "data": {
      "text/plain": [
       "Symboling                    int64\n",
       "Normalized_losses           object\n",
       "Aspiration                  object\n",
       "Num_of_doors                object\n",
       "Wheel_base                 float64\n",
       "Length                     float64\n",
       "Width                      float64\n",
       "Height                     float64\n",
       "Curb_weight                  int64\n",
       "Engine_size                  int64\n",
       "Fuel_system                 object\n",
       "Bore                        object\n",
       "Stroke                     float64\n",
       "Compression_ratio          float64\n",
       "Horse_power                 object\n",
       "Peak_RPM                    object\n",
       "City_mpg                     int64\n",
       "Price                       object\n",
       "Isstd                        int64\n",
       "Istwo                        int64\n",
       "Make_alfa-romero             int64\n",
       "Make_audi                    int64\n",
       "Make_bmw                     int64\n",
       "Make_chevrolet               int64\n",
       "Make_dodge                   int64\n",
       "Make_honda                   int64\n",
       "Make_isuzu                   int64\n",
       "Make_jaguar                  int64\n",
       "Make_mazda                   int64\n",
       "Make_mercedes-benz           int64\n",
       "                            ...   \n",
       "Make_subaru                  int64\n",
       "Make_toyota                  int64\n",
       "Make_volkswagen              int64\n",
       "Make_volvo                   int64\n",
       "Fuel_type_diesel             int64\n",
       "Fuel_type_gas                int64\n",
       "Body_style_convertible       int64\n",
       "Body_style_hardtop           int64\n",
       "Body_style_hatchback         int64\n",
       "Body_style_sedan             int64\n",
       "Body_style_wagon             int64\n",
       "Drive_wheels_4wd             int64\n",
       "Drive_wheels_fwd             int64\n",
       "Drive_wheels_rwd             int64\n",
       "Engine_location_front        int64\n",
       "Engine_location_rear         int64\n",
       "Engine_type_dohc             int64\n",
       "Engine_type_dohcv            int64\n",
       "Engine_type_l                int64\n",
       "Engine_type_ohc              int64\n",
       "Engine_type_ohcf             int64\n",
       "Engine_type_ohcv             int64\n",
       "Engine_type_rotor            int64\n",
       "Num_of_cylinders_eight       int64\n",
       "Num_of_cylinders_five        int64\n",
       "Num_of_cylinders_four        int64\n",
       "Num_of_cylinders_six         int64\n",
       "Num_of_cylinders_three       int64\n",
       "Num_of_cylinders_twelve      int64\n",
       "Num_of_cylinders_two         int64\n",
       "Length: 68, dtype: object"
      ]
     },
     "execution_count": 22,
     "metadata": {},
     "output_type": "execute_result"
    }
   ],
   "source": [
    "df.dtypes"
   ]
  },
  {
   "cell_type": "markdown",
   "metadata": {},
   "source": [
    "## Converting Object to Float"
   ]
  },
  {
   "cell_type": "code",
   "execution_count": 23,
   "metadata": {},
   "outputs": [],
   "source": [
    "df.Horse_power=df.Horse_power.astype(float)"
   ]
  },
  {
   "cell_type": "code",
   "execution_count": 24,
   "metadata": {},
   "outputs": [],
   "source": [
    "df.Bore=df.Bore.astype(float)"
   ]
  },
  {
   "cell_type": "code",
   "execution_count": 25,
   "metadata": {},
   "outputs": [],
   "source": [
    "df.Peak_RPM=df.Peak_RPM.astype(float)"
   ]
  },
  {
   "cell_type": "code",
   "execution_count": 26,
   "metadata": {},
   "outputs": [
    {
     "data": {
      "text/plain": [
       "Symboling                    int64\n",
       "Normalized_losses           object\n",
       "Aspiration                  object\n",
       "Num_of_doors                object\n",
       "Wheel_base                 float64\n",
       "Length                     float64\n",
       "Width                      float64\n",
       "Height                     float64\n",
       "Curb_weight                  int64\n",
       "Engine_size                  int64\n",
       "Fuel_system                 object\n",
       "Bore                       float64\n",
       "Stroke                     float64\n",
       "Compression_ratio          float64\n",
       "Horse_power                float64\n",
       "Peak_RPM                   float64\n",
       "City_mpg                     int64\n",
       "Price                      float64\n",
       "Isstd                        int64\n",
       "Istwo                        int64\n",
       "Make_alfa-romero             int64\n",
       "Make_audi                    int64\n",
       "Make_bmw                     int64\n",
       "Make_chevrolet               int64\n",
       "Make_dodge                   int64\n",
       "Make_honda                   int64\n",
       "Make_isuzu                   int64\n",
       "Make_jaguar                  int64\n",
       "Make_mazda                   int64\n",
       "Make_mercedes-benz           int64\n",
       "                            ...   \n",
       "Make_subaru                  int64\n",
       "Make_toyota                  int64\n",
       "Make_volkswagen              int64\n",
       "Make_volvo                   int64\n",
       "Fuel_type_diesel             int64\n",
       "Fuel_type_gas                int64\n",
       "Body_style_convertible       int64\n",
       "Body_style_hardtop           int64\n",
       "Body_style_hatchback         int64\n",
       "Body_style_sedan             int64\n",
       "Body_style_wagon             int64\n",
       "Drive_wheels_4wd             int64\n",
       "Drive_wheels_fwd             int64\n",
       "Drive_wheels_rwd             int64\n",
       "Engine_location_front        int64\n",
       "Engine_location_rear         int64\n",
       "Engine_type_dohc             int64\n",
       "Engine_type_dohcv            int64\n",
       "Engine_type_l                int64\n",
       "Engine_type_ohc              int64\n",
       "Engine_type_ohcf             int64\n",
       "Engine_type_ohcv             int64\n",
       "Engine_type_rotor            int64\n",
       "Num_of_cylinders_eight       int64\n",
       "Num_of_cylinders_five        int64\n",
       "Num_of_cylinders_four        int64\n",
       "Num_of_cylinders_six         int64\n",
       "Num_of_cylinders_three       int64\n",
       "Num_of_cylinders_twelve      int64\n",
       "Num_of_cylinders_two         int64\n",
       "Length: 68, dtype: object"
      ]
     },
     "execution_count": 26,
     "metadata": {},
     "output_type": "execute_result"
    }
   ],
   "source": [
    "df.dtypes"
   ]
  },
  {
   "cell_type": "code",
   "execution_count": 27,
   "metadata": {},
   "outputs": [],
   "source": [
    "df.Normalized_losses=df.Normalized_losses.astype(float)\n"
   ]
  },
  {
   "cell_type": "code",
   "execution_count": 28,
   "metadata": {},
   "outputs": [
    {
     "data": {
      "text/plain": [
       "122.0"
      ]
     },
     "execution_count": 28,
     "metadata": {},
     "output_type": "execute_result"
    }
   ],
   "source": [
    "df.Normalized_losses.mean()"
   ]
  },
  {
   "cell_type": "markdown",
   "metadata": {},
   "source": [
    "## Drop duplicate columns"
   ]
  },
  {
   "cell_type": "code",
   "execution_count": 29,
   "metadata": {},
   "outputs": [],
   "source": [
    "df.drop(['Aspiration','Num_of_doors'], axis=1, inplace=True)"
   ]
  },
  {
   "cell_type": "code",
   "execution_count": 30,
   "metadata": {},
   "outputs": [
    {
     "data": {
      "text/plain": [
       "(204, 66)"
      ]
     },
     "execution_count": 30,
     "metadata": {},
     "output_type": "execute_result"
    }
   ],
   "source": [
    "df.shape"
   ]
  },
  {
   "cell_type": "code",
   "execution_count": 31,
   "metadata": {},
   "outputs": [
    {
     "data": {
      "text/html": [
       "<div>\n",
       "<style scoped>\n",
       "    .dataframe tbody tr th:only-of-type {\n",
       "        vertical-align: middle;\n",
       "    }\n",
       "\n",
       "    .dataframe tbody tr th {\n",
       "        vertical-align: top;\n",
       "    }\n",
       "\n",
       "    .dataframe thead th {\n",
       "        text-align: right;\n",
       "    }\n",
       "</style>\n",
       "<table border=\"1\" class=\"dataframe\">\n",
       "  <thead>\n",
       "    <tr style=\"text-align: right;\">\n",
       "      <th></th>\n",
       "      <th>Symboling</th>\n",
       "      <th>Normalized_losses</th>\n",
       "      <th>Wheel_base</th>\n",
       "      <th>Length</th>\n",
       "      <th>Width</th>\n",
       "      <th>Height</th>\n",
       "      <th>Curb_weight</th>\n",
       "      <th>Engine_size</th>\n",
       "      <th>Fuel_system</th>\n",
       "      <th>Bore</th>\n",
       "      <th>...</th>\n",
       "      <th>Engine_type_ohcf</th>\n",
       "      <th>Engine_type_ohcv</th>\n",
       "      <th>Engine_type_rotor</th>\n",
       "      <th>Num_of_cylinders_eight</th>\n",
       "      <th>Num_of_cylinders_five</th>\n",
       "      <th>Num_of_cylinders_four</th>\n",
       "      <th>Num_of_cylinders_six</th>\n",
       "      <th>Num_of_cylinders_three</th>\n",
       "      <th>Num_of_cylinders_twelve</th>\n",
       "      <th>Num_of_cylinders_two</th>\n",
       "    </tr>\n",
       "  </thead>\n",
       "  <tbody>\n",
       "    <tr>\n",
       "      <th>0</th>\n",
       "      <td>3</td>\n",
       "      <td>NaN</td>\n",
       "      <td>88.6</td>\n",
       "      <td>168.8</td>\n",
       "      <td>64.1</td>\n",
       "      <td>48.8</td>\n",
       "      <td>2548</td>\n",
       "      <td>130</td>\n",
       "      <td>mpfi</td>\n",
       "      <td>3.47</td>\n",
       "      <td>...</td>\n",
       "      <td>0</td>\n",
       "      <td>0</td>\n",
       "      <td>0</td>\n",
       "      <td>0</td>\n",
       "      <td>0</td>\n",
       "      <td>1</td>\n",
       "      <td>0</td>\n",
       "      <td>0</td>\n",
       "      <td>0</td>\n",
       "      <td>0</td>\n",
       "    </tr>\n",
       "    <tr>\n",
       "      <th>1</th>\n",
       "      <td>1</td>\n",
       "      <td>NaN</td>\n",
       "      <td>94.5</td>\n",
       "      <td>171.2</td>\n",
       "      <td>65.5</td>\n",
       "      <td>52.4</td>\n",
       "      <td>2823</td>\n",
       "      <td>152</td>\n",
       "      <td>mpfi</td>\n",
       "      <td>2.68</td>\n",
       "      <td>...</td>\n",
       "      <td>0</td>\n",
       "      <td>1</td>\n",
       "      <td>0</td>\n",
       "      <td>0</td>\n",
       "      <td>0</td>\n",
       "      <td>0</td>\n",
       "      <td>1</td>\n",
       "      <td>0</td>\n",
       "      <td>0</td>\n",
       "      <td>0</td>\n",
       "    </tr>\n",
       "    <tr>\n",
       "      <th>2</th>\n",
       "      <td>2</td>\n",
       "      <td>164.0</td>\n",
       "      <td>99.8</td>\n",
       "      <td>176.6</td>\n",
       "      <td>66.2</td>\n",
       "      <td>54.3</td>\n",
       "      <td>2337</td>\n",
       "      <td>109</td>\n",
       "      <td>mpfi</td>\n",
       "      <td>3.19</td>\n",
       "      <td>...</td>\n",
       "      <td>0</td>\n",
       "      <td>0</td>\n",
       "      <td>0</td>\n",
       "      <td>0</td>\n",
       "      <td>0</td>\n",
       "      <td>1</td>\n",
       "      <td>0</td>\n",
       "      <td>0</td>\n",
       "      <td>0</td>\n",
       "      <td>0</td>\n",
       "    </tr>\n",
       "    <tr>\n",
       "      <th>3</th>\n",
       "      <td>2</td>\n",
       "      <td>164.0</td>\n",
       "      <td>99.4</td>\n",
       "      <td>176.6</td>\n",
       "      <td>66.4</td>\n",
       "      <td>54.3</td>\n",
       "      <td>2824</td>\n",
       "      <td>136</td>\n",
       "      <td>mpfi</td>\n",
       "      <td>3.19</td>\n",
       "      <td>...</td>\n",
       "      <td>0</td>\n",
       "      <td>0</td>\n",
       "      <td>0</td>\n",
       "      <td>0</td>\n",
       "      <td>1</td>\n",
       "      <td>0</td>\n",
       "      <td>0</td>\n",
       "      <td>0</td>\n",
       "      <td>0</td>\n",
       "      <td>0</td>\n",
       "    </tr>\n",
       "    <tr>\n",
       "      <th>4</th>\n",
       "      <td>2</td>\n",
       "      <td>NaN</td>\n",
       "      <td>99.8</td>\n",
       "      <td>177.3</td>\n",
       "      <td>66.3</td>\n",
       "      <td>53.1</td>\n",
       "      <td>2507</td>\n",
       "      <td>136</td>\n",
       "      <td>mpfi</td>\n",
       "      <td>3.19</td>\n",
       "      <td>...</td>\n",
       "      <td>0</td>\n",
       "      <td>0</td>\n",
       "      <td>0</td>\n",
       "      <td>0</td>\n",
       "      <td>1</td>\n",
       "      <td>0</td>\n",
       "      <td>0</td>\n",
       "      <td>0</td>\n",
       "      <td>0</td>\n",
       "      <td>0</td>\n",
       "    </tr>\n",
       "  </tbody>\n",
       "</table>\n",
       "<p>5 rows × 66 columns</p>\n",
       "</div>"
      ],
      "text/plain": [
       "   Symboling  Normalized_losses  Wheel_base  Length  Width  Height  \\\n",
       "0          3                NaN        88.6   168.8   64.1    48.8   \n",
       "1          1                NaN        94.5   171.2   65.5    52.4   \n",
       "2          2              164.0        99.8   176.6   66.2    54.3   \n",
       "3          2              164.0        99.4   176.6   66.4    54.3   \n",
       "4          2                NaN        99.8   177.3   66.3    53.1   \n",
       "\n",
       "   Curb_weight  Engine_size Fuel_system  Bore          ...           \\\n",
       "0         2548          130        mpfi  3.47          ...            \n",
       "1         2823          152        mpfi  2.68          ...            \n",
       "2         2337          109        mpfi  3.19          ...            \n",
       "3         2824          136        mpfi  3.19          ...            \n",
       "4         2507          136        mpfi  3.19          ...            \n",
       "\n",
       "   Engine_type_ohcf  Engine_type_ohcv  Engine_type_rotor  \\\n",
       "0                 0                 0                  0   \n",
       "1                 0                 1                  0   \n",
       "2                 0                 0                  0   \n",
       "3                 0                 0                  0   \n",
       "4                 0                 0                  0   \n",
       "\n",
       "   Num_of_cylinders_eight  Num_of_cylinders_five  Num_of_cylinders_four  \\\n",
       "0                       0                      0                      1   \n",
       "1                       0                      0                      0   \n",
       "2                       0                      0                      1   \n",
       "3                       0                      1                      0   \n",
       "4                       0                      1                      0   \n",
       "\n",
       "   Num_of_cylinders_six  Num_of_cylinders_three  Num_of_cylinders_twelve  \\\n",
       "0                     0                       0                        0   \n",
       "1                     1                       0                        0   \n",
       "2                     0                       0                        0   \n",
       "3                     0                       0                        0   \n",
       "4                     0                       0                        0   \n",
       "\n",
       "   Num_of_cylinders_two  \n",
       "0                     0  \n",
       "1                     0  \n",
       "2                     0  \n",
       "3                     0  \n",
       "4                     0  \n",
       "\n",
       "[5 rows x 66 columns]"
      ]
     },
     "execution_count": 31,
     "metadata": {},
     "output_type": "execute_result"
    }
   ],
   "source": [
    "df.head()"
   ]
  },
  {
   "cell_type": "code",
   "execution_count": 32,
   "metadata": {},
   "outputs": [],
   "source": [
    "df=pd.get_dummies(df,columns=['Fuel_system'])"
   ]
  },
  {
   "cell_type": "code",
   "execution_count": 33,
   "metadata": {},
   "outputs": [
    {
     "data": {
      "text/plain": [
       "(204, 73)"
      ]
     },
     "execution_count": 33,
     "metadata": {},
     "output_type": "execute_result"
    }
   ],
   "source": [
    "df.shape"
   ]
  },
  {
   "cell_type": "markdown",
   "metadata": {},
   "source": [
    "## Mean Imputation"
   ]
  },
  {
   "cell_type": "code",
   "execution_count": 34,
   "metadata": {},
   "outputs": [],
   "source": [
    "from sklearn.impute import SimpleImputer"
   ]
  },
  {
   "cell_type": "code",
   "execution_count": 35,
   "metadata": {},
   "outputs": [],
   "source": [
    "df=df.astype(float)"
   ]
  },
  {
   "cell_type": "code",
   "execution_count": 36,
   "metadata": {},
   "outputs": [
    {
     "data": {
      "text/plain": [
       "Symboling                      0.823529\n",
       "Normalized_losses            122.000000\n",
       "Wheel_base                    98.806373\n",
       "Length                       174.075000\n",
       "Width                         65.916667\n",
       "Height                        53.749020\n",
       "Curb_weight                 2555.602941\n",
       "Engine_size                  126.892157\n",
       "Bore                           3.329050\n",
       "Stroke                         3.258300\n",
       "Compression_ratio             10.148137\n",
       "Horse_power                  104.222772\n",
       "Peak_RPM                    5125.990099\n",
       "City_mpg                      25.240196\n",
       "Price                      13205.690000\n",
       "Isstd                          0.818627\n",
       "Istwo                          0.431373\n",
       "Make_alfa-romero               0.009804\n",
       "Make_audi                      0.034314\n",
       "Make_bmw                       0.039216\n",
       "Make_chevrolet                 0.014706\n",
       "Make_dodge                     0.044118\n",
       "Make_honda                     0.063725\n",
       "Make_isuzu                     0.019608\n",
       "Make_jaguar                    0.014706\n",
       "Make_mazda                     0.083333\n",
       "Make_mercedes-benz             0.039216\n",
       "Make_mercury                   0.004902\n",
       "Make_mitsubishi                0.063725\n",
       "Make_nissan                    0.088235\n",
       "                               ...     \n",
       "Body_style_hatchback           0.343137\n",
       "Body_style_sedan               0.470588\n",
       "Body_style_wagon               0.122549\n",
       "Drive_wheels_4wd               0.044118\n",
       "Drive_wheels_fwd               0.588235\n",
       "Drive_wheels_rwd               0.367647\n",
       "Engine_location_front          0.985294\n",
       "Engine_location_rear           0.014706\n",
       "Engine_type_dohc               0.053922\n",
       "Engine_type_dohcv              0.004902\n",
       "Engine_type_l                  0.058824\n",
       "Engine_type_ohc                0.725490\n",
       "Engine_type_ohcf               0.073529\n",
       "Engine_type_ohcv               0.063725\n",
       "Engine_type_rotor              0.019608\n",
       "Num_of_cylinders_eight         0.024510\n",
       "Num_of_cylinders_five          0.053922\n",
       "Num_of_cylinders_four          0.774510\n",
       "Num_of_cylinders_six           0.117647\n",
       "Num_of_cylinders_three         0.004902\n",
       "Num_of_cylinders_twelve        0.004902\n",
       "Num_of_cylinders_two           0.019608\n",
       "Fuel_system_1bbl               0.053922\n",
       "Fuel_system_2bbl               0.323529\n",
       "Fuel_system_4bbl               0.014706\n",
       "Fuel_system_idi                0.098039\n",
       "Fuel_system_mfi                0.004902\n",
       "Fuel_system_mpfi               0.455882\n",
       "Fuel_system_spdi               0.044118\n",
       "Fuel_system_spfi               0.004902\n",
       "Length: 73, dtype: float64"
      ]
     },
     "execution_count": 36,
     "metadata": {},
     "output_type": "execute_result"
    }
   ],
   "source": [
    "df.mean()"
   ]
  },
  {
   "cell_type": "code",
   "execution_count": 37,
   "metadata": {},
   "outputs": [],
   "source": [
    "df = df.fillna(df.mean())"
   ]
  },
  {
   "cell_type": "code",
   "execution_count": 38,
   "metadata": {},
   "outputs": [
    {
     "data": {
      "text/html": [
       "<div>\n",
       "<style scoped>\n",
       "    .dataframe tbody tr th:only-of-type {\n",
       "        vertical-align: middle;\n",
       "    }\n",
       "\n",
       "    .dataframe tbody tr th {\n",
       "        vertical-align: top;\n",
       "    }\n",
       "\n",
       "    .dataframe thead th {\n",
       "        text-align: right;\n",
       "    }\n",
       "</style>\n",
       "<table border=\"1\" class=\"dataframe\">\n",
       "  <thead>\n",
       "    <tr style=\"text-align: right;\">\n",
       "      <th></th>\n",
       "      <th>Symboling</th>\n",
       "      <th>Normalized_losses</th>\n",
       "      <th>Wheel_base</th>\n",
       "      <th>Length</th>\n",
       "      <th>Width</th>\n",
       "      <th>Height</th>\n",
       "      <th>Curb_weight</th>\n",
       "      <th>Engine_size</th>\n",
       "      <th>Bore</th>\n",
       "      <th>Stroke</th>\n",
       "      <th>...</th>\n",
       "      <th>Num_of_cylinders_twelve</th>\n",
       "      <th>Num_of_cylinders_two</th>\n",
       "      <th>Fuel_system_1bbl</th>\n",
       "      <th>Fuel_system_2bbl</th>\n",
       "      <th>Fuel_system_4bbl</th>\n",
       "      <th>Fuel_system_idi</th>\n",
       "      <th>Fuel_system_mfi</th>\n",
       "      <th>Fuel_system_mpfi</th>\n",
       "      <th>Fuel_system_spdi</th>\n",
       "      <th>Fuel_system_spfi</th>\n",
       "    </tr>\n",
       "  </thead>\n",
       "  <tbody>\n",
       "    <tr>\n",
       "      <th>0</th>\n",
       "      <td>3.0</td>\n",
       "      <td>122.0</td>\n",
       "      <td>88.6</td>\n",
       "      <td>168.8</td>\n",
       "      <td>64.1</td>\n",
       "      <td>48.8</td>\n",
       "      <td>2548.0</td>\n",
       "      <td>130.0</td>\n",
       "      <td>3.47</td>\n",
       "      <td>2.68</td>\n",
       "      <td>...</td>\n",
       "      <td>0.0</td>\n",
       "      <td>0.0</td>\n",
       "      <td>0.0</td>\n",
       "      <td>0.0</td>\n",
       "      <td>0.0</td>\n",
       "      <td>0.0</td>\n",
       "      <td>0.0</td>\n",
       "      <td>1.0</td>\n",
       "      <td>0.0</td>\n",
       "      <td>0.0</td>\n",
       "    </tr>\n",
       "    <tr>\n",
       "      <th>1</th>\n",
       "      <td>1.0</td>\n",
       "      <td>122.0</td>\n",
       "      <td>94.5</td>\n",
       "      <td>171.2</td>\n",
       "      <td>65.5</td>\n",
       "      <td>52.4</td>\n",
       "      <td>2823.0</td>\n",
       "      <td>152.0</td>\n",
       "      <td>2.68</td>\n",
       "      <td>3.47</td>\n",
       "      <td>...</td>\n",
       "      <td>0.0</td>\n",
       "      <td>0.0</td>\n",
       "      <td>0.0</td>\n",
       "      <td>0.0</td>\n",
       "      <td>0.0</td>\n",
       "      <td>0.0</td>\n",
       "      <td>0.0</td>\n",
       "      <td>1.0</td>\n",
       "      <td>0.0</td>\n",
       "      <td>0.0</td>\n",
       "    </tr>\n",
       "    <tr>\n",
       "      <th>2</th>\n",
       "      <td>2.0</td>\n",
       "      <td>164.0</td>\n",
       "      <td>99.8</td>\n",
       "      <td>176.6</td>\n",
       "      <td>66.2</td>\n",
       "      <td>54.3</td>\n",
       "      <td>2337.0</td>\n",
       "      <td>109.0</td>\n",
       "      <td>3.19</td>\n",
       "      <td>3.40</td>\n",
       "      <td>...</td>\n",
       "      <td>0.0</td>\n",
       "      <td>0.0</td>\n",
       "      <td>0.0</td>\n",
       "      <td>0.0</td>\n",
       "      <td>0.0</td>\n",
       "      <td>0.0</td>\n",
       "      <td>0.0</td>\n",
       "      <td>1.0</td>\n",
       "      <td>0.0</td>\n",
       "      <td>0.0</td>\n",
       "    </tr>\n",
       "    <tr>\n",
       "      <th>3</th>\n",
       "      <td>2.0</td>\n",
       "      <td>164.0</td>\n",
       "      <td>99.4</td>\n",
       "      <td>176.6</td>\n",
       "      <td>66.4</td>\n",
       "      <td>54.3</td>\n",
       "      <td>2824.0</td>\n",
       "      <td>136.0</td>\n",
       "      <td>3.19</td>\n",
       "      <td>3.40</td>\n",
       "      <td>...</td>\n",
       "      <td>0.0</td>\n",
       "      <td>0.0</td>\n",
       "      <td>0.0</td>\n",
       "      <td>0.0</td>\n",
       "      <td>0.0</td>\n",
       "      <td>0.0</td>\n",
       "      <td>0.0</td>\n",
       "      <td>1.0</td>\n",
       "      <td>0.0</td>\n",
       "      <td>0.0</td>\n",
       "    </tr>\n",
       "    <tr>\n",
       "      <th>4</th>\n",
       "      <td>2.0</td>\n",
       "      <td>122.0</td>\n",
       "      <td>99.8</td>\n",
       "      <td>177.3</td>\n",
       "      <td>66.3</td>\n",
       "      <td>53.1</td>\n",
       "      <td>2507.0</td>\n",
       "      <td>136.0</td>\n",
       "      <td>3.19</td>\n",
       "      <td>3.40</td>\n",
       "      <td>...</td>\n",
       "      <td>0.0</td>\n",
       "      <td>0.0</td>\n",
       "      <td>0.0</td>\n",
       "      <td>0.0</td>\n",
       "      <td>0.0</td>\n",
       "      <td>0.0</td>\n",
       "      <td>0.0</td>\n",
       "      <td>1.0</td>\n",
       "      <td>0.0</td>\n",
       "      <td>0.0</td>\n",
       "    </tr>\n",
       "  </tbody>\n",
       "</table>\n",
       "<p>5 rows × 73 columns</p>\n",
       "</div>"
      ],
      "text/plain": [
       "   Symboling  Normalized_losses  Wheel_base  Length  Width  Height  \\\n",
       "0        3.0              122.0        88.6   168.8   64.1    48.8   \n",
       "1        1.0              122.0        94.5   171.2   65.5    52.4   \n",
       "2        2.0              164.0        99.8   176.6   66.2    54.3   \n",
       "3        2.0              164.0        99.4   176.6   66.4    54.3   \n",
       "4        2.0              122.0        99.8   177.3   66.3    53.1   \n",
       "\n",
       "   Curb_weight  Engine_size  Bore  Stroke        ...         \\\n",
       "0       2548.0        130.0  3.47    2.68        ...          \n",
       "1       2823.0        152.0  2.68    3.47        ...          \n",
       "2       2337.0        109.0  3.19    3.40        ...          \n",
       "3       2824.0        136.0  3.19    3.40        ...          \n",
       "4       2507.0        136.0  3.19    3.40        ...          \n",
       "\n",
       "   Num_of_cylinders_twelve  Num_of_cylinders_two  Fuel_system_1bbl  \\\n",
       "0                      0.0                   0.0               0.0   \n",
       "1                      0.0                   0.0               0.0   \n",
       "2                      0.0                   0.0               0.0   \n",
       "3                      0.0                   0.0               0.0   \n",
       "4                      0.0                   0.0               0.0   \n",
       "\n",
       "   Fuel_system_2bbl  Fuel_system_4bbl  Fuel_system_idi  Fuel_system_mfi  \\\n",
       "0               0.0               0.0              0.0              0.0   \n",
       "1               0.0               0.0              0.0              0.0   \n",
       "2               0.0               0.0              0.0              0.0   \n",
       "3               0.0               0.0              0.0              0.0   \n",
       "4               0.0               0.0              0.0              0.0   \n",
       "\n",
       "   Fuel_system_mpfi  Fuel_system_spdi  Fuel_system_spfi  \n",
       "0               1.0               0.0               0.0  \n",
       "1               1.0               0.0               0.0  \n",
       "2               1.0               0.0               0.0  \n",
       "3               1.0               0.0               0.0  \n",
       "4               1.0               0.0               0.0  \n",
       "\n",
       "[5 rows x 73 columns]"
      ]
     },
     "execution_count": 38,
     "metadata": {},
     "output_type": "execute_result"
    }
   ],
   "source": [
    "df.head()"
   ]
  },
  {
   "cell_type": "markdown",
   "metadata": {},
   "source": [
    "## PCA - Principle Component Analysis"
   ]
  },
  {
   "cell_type": "code",
   "execution_count": 39,
   "metadata": {},
   "outputs": [],
   "source": [
    "from sklearn.preprocessing import StandardScaler"
   ]
  },
  {
   "cell_type": "code",
   "execution_count": 40,
   "metadata": {},
   "outputs": [],
   "source": [
    "df=df.astype(float)"
   ]
  },
  {
   "cell_type": "code",
   "execution_count": 41,
   "metadata": {},
   "outputs": [
    {
     "data": {
      "text/plain": [
       "StandardScaler(copy=True, with_mean=True, with_std=True)"
      ]
     },
     "execution_count": 41,
     "metadata": {},
     "output_type": "execute_result"
    }
   ],
   "source": [
    "scaler=StandardScaler()\n",
    "scaler.fit(df)"
   ]
  },
  {
   "cell_type": "code",
   "execution_count": 42,
   "metadata": {},
   "outputs": [],
   "source": [
    "scaled_data=scaler.transform(df)"
   ]
  },
  {
   "cell_type": "code",
   "execution_count": 43,
   "metadata": {},
   "outputs": [
    {
     "data": {
      "text/plain": [
       "array([[ 1.7609068 ,  0.        , -1.7069127 , ...,  1.0924964 ,\n",
       "        -0.21483446, -0.07018624],\n",
       "       [ 0.14277623,  0.        , -0.72019731, ...,  1.0924964 ,\n",
       "        -0.21483446, -0.07018624],\n",
       "       [ 0.95184151,  1.32571539,  0.16617415, ...,  1.0924964 ,\n",
       "        -0.21483446, -0.07018624],\n",
       "       ...,\n",
       "       [-1.47535434, -0.85224561,  1.7215052 , ...,  1.0924964 ,\n",
       "        -0.21483446, -0.07018624],\n",
       "       [-1.47535434, -0.85224561,  1.7215052 , ..., -0.91533482,\n",
       "        -0.21483446, -0.07018624],\n",
       "       [-1.47535434, -0.85224561,  1.7215052 , ...,  1.0924964 ,\n",
       "        -0.21483446, -0.07018624]])"
      ]
     },
     "execution_count": 43,
     "metadata": {},
     "output_type": "execute_result"
    }
   ],
   "source": [
    "scaled_data"
   ]
  },
  {
   "cell_type": "code",
   "execution_count": 44,
   "metadata": {},
   "outputs": [],
   "source": [
    "from sklearn.decomposition import PCA"
   ]
  },
  {
   "cell_type": "code",
   "execution_count": 45,
   "metadata": {},
   "outputs": [],
   "source": [
    "pca=PCA(n_components=10)"
   ]
  },
  {
   "cell_type": "code",
   "execution_count": 46,
   "metadata": {},
   "outputs": [
    {
     "data": {
      "text/plain": [
       "PCA(copy=True, iterated_power='auto', n_components=10, random_state=None,\n",
       "  svd_solver='auto', tol=0.0, whiten=False)"
      ]
     },
     "execution_count": 46,
     "metadata": {},
     "output_type": "execute_result"
    }
   ],
   "source": [
    "pca.fit(scaled_data)"
   ]
  },
  {
   "cell_type": "code",
   "execution_count": 47,
   "metadata": {},
   "outputs": [],
   "source": [
    "xpca=pca.transform(scaled_data)"
   ]
  },
  {
   "cell_type": "code",
   "execution_count": 48,
   "metadata": {},
   "outputs": [
    {
     "data": {
      "text/plain": [
       "(204, 73)"
      ]
     },
     "execution_count": 48,
     "metadata": {},
     "output_type": "execute_result"
    }
   ],
   "source": [
    "\n",
    "scaled_data.shape"
   ]
  },
  {
   "cell_type": "code",
   "execution_count": 49,
   "metadata": {},
   "outputs": [
    {
     "data": {
      "text/plain": [
       "(204, 10)"
      ]
     },
     "execution_count": 49,
     "metadata": {},
     "output_type": "execute_result"
    }
   ],
   "source": [
    "xpca.shape"
   ]
  },
  {
   "cell_type": "code",
   "execution_count": 50,
   "metadata": {},
   "outputs": [
    {
     "data": {
      "text/plain": [
       "array([[ 1.7609068 ,  0.        , -1.7069127 , ...,  1.0924964 ,\n",
       "        -0.21483446, -0.07018624],\n",
       "       [ 0.14277623,  0.        , -0.72019731, ...,  1.0924964 ,\n",
       "        -0.21483446, -0.07018624],\n",
       "       [ 0.95184151,  1.32571539,  0.16617415, ...,  1.0924964 ,\n",
       "        -0.21483446, -0.07018624],\n",
       "       ...,\n",
       "       [-1.47535434, -0.85224561,  1.7215052 , ...,  1.0924964 ,\n",
       "        -0.21483446, -0.07018624],\n",
       "       [-1.47535434, -0.85224561,  1.7215052 , ..., -0.91533482,\n",
       "        -0.21483446, -0.07018624],\n",
       "       [-1.47535434, -0.85224561,  1.7215052 , ...,  1.0924964 ,\n",
       "        -0.21483446, -0.07018624]])"
      ]
     },
     "execution_count": 50,
     "metadata": {},
     "output_type": "execute_result"
    }
   ],
   "source": [
    "scaled_data"
   ]
  },
  {
   "cell_type": "code",
   "execution_count": 51,
   "metadata": {},
   "outputs": [
    {
     "data": {
      "text/plain": [
       "array([[ 0.68963669,  3.8540461 ,  0.29879531, ...,  1.41611045,\n",
       "        -0.33607119,  1.47945187],\n",
       "       [ 2.13521416,  3.4684631 ,  1.14228112, ...,  3.09319506,\n",
       "         0.35877742,  1.81629554],\n",
       "       [-0.32687203,  0.13414411, -0.26442545, ..., -1.61211589,\n",
       "        -1.63470476,  2.70644097],\n",
       "       ...,\n",
       "       [ 5.19192253,  0.74224412, -2.10089424, ...,  0.64700231,\n",
       "         0.31131307, -0.9679102 ],\n",
       "       [ 4.25823954, -5.2069713 ,  2.14253206, ..., -0.3201688 ,\n",
       "        -0.84186802, -1.55712844],\n",
       "       [ 3.57916807, -1.17642531, -1.65949261, ..., -2.27886089,\n",
       "         0.16181121, -2.28115388]])"
      ]
     },
     "execution_count": 51,
     "metadata": {},
     "output_type": "execute_result"
    }
   ],
   "source": [
    "xpca"
   ]
  },
  {
   "cell_type": "code",
   "execution_count": 52,
   "metadata": {},
   "outputs": [
    {
     "data": {
      "text/plain": [
       "Text(0, 0.5, 'Second principle component')"
      ]
     },
     "execution_count": 52,
     "metadata": {},
     "output_type": "execute_result"
    },
    {
     "data": {
      "image/png": "[encoded data removed]",
      "text/plain": [
       "<Figure size 576x432 with 1 Axes>"
      ]
     },
     "metadata": {
      "needs_background": "light"
     },
     "output_type": "display_data"
    }
   ],
   "source": [
    "plt.figure(figsize=(8,6))\n",
    "plt.scatter(xpca[:,0],xpca[:,1])\n",
    "plt.xlabel('First principle component')\n",
    "plt.ylabel('Second principle component')\n"
   ]
  },
  {
   "cell_type": "markdown",
   "metadata": {},
   "source": [
    "## Calculating alpha values"
   ]
  },
  {
   "cell_type": "code",
   "execution_count": 53,
   "metadata": {},
   "outputs": [],
   "source": [
    "%matplotlib inline\n",
    "\n",
    "\n",
    "import matplotlib.pyplot as plt\n",
    "\n",
    "from sklearn.preprocessing import scale \n",
    "\n",
    "from sklearn.linear_model import Ridge, RidgeCV, Lasso, LassoCV\n",
    "from sklearn.metrics import mean_squared_error"
   ]
  },
  {
   "cell_type": "code",
   "execution_count": 54,
   "metadata": {},
   "outputs": [
    {
     "data": {
      "text/plain": [
       "array([5.00000000e+09, 3.78231664e+09, 2.86118383e+09, 2.16438064e+09,\n",
       "       1.63727458e+09, 1.23853818e+09, 9.36908711e+08, 7.08737081e+08,\n",
       "       5.36133611e+08, 4.05565415e+08, 3.06795364e+08, 2.32079442e+08,\n",
       "       1.75559587e+08, 1.32804389e+08, 1.00461650e+08, 7.59955541e+07,\n",
       "       5.74878498e+07, 4.34874501e+07, 3.28966612e+07, 2.48851178e+07,\n",
       "       1.88246790e+07, 1.42401793e+07, 1.07721735e+07, 8.14875417e+06,\n",
       "       6.16423370e+06, 4.66301673e+06, 3.52740116e+06, 2.66834962e+06,\n",
       "       2.01850863e+06, 1.52692775e+06, 1.15506485e+06, 8.73764200e+05,\n",
       "       6.60970574e+05, 5.00000000e+05, 3.78231664e+05, 2.86118383e+05,\n",
       "       2.16438064e+05, 1.63727458e+05, 1.23853818e+05, 9.36908711e+04,\n",
       "       7.08737081e+04, 5.36133611e+04, 4.05565415e+04, 3.06795364e+04,\n",
       "       2.32079442e+04, 1.75559587e+04, 1.32804389e+04, 1.00461650e+04,\n",
       "       7.59955541e+03, 5.74878498e+03, 4.34874501e+03, 3.28966612e+03,\n",
       "       2.48851178e+03, 1.88246790e+03, 1.42401793e+03, 1.07721735e+03,\n",
       "       8.14875417e+02, 6.16423370e+02, 4.66301673e+02, 3.52740116e+02,\n",
       "       2.66834962e+02, 2.01850863e+02, 1.52692775e+02, 1.15506485e+02,\n",
       "       8.73764200e+01, 6.60970574e+01, 5.00000000e+01, 3.78231664e+01,\n",
       "       2.86118383e+01, 2.16438064e+01, 1.63727458e+01, 1.23853818e+01,\n",
       "       9.36908711e+00, 7.08737081e+00, 5.36133611e+00, 4.05565415e+00,\n",
       "       3.06795364e+00, 2.32079442e+00, 1.75559587e+00, 1.32804389e+00,\n",
       "       1.00461650e+00, 7.59955541e-01, 5.74878498e-01, 4.34874501e-01,\n",
       "       3.28966612e-01, 2.48851178e-01, 1.88246790e-01, 1.42401793e-01,\n",
       "       1.07721735e-01, 8.14875417e-02, 6.16423370e-02, 4.66301673e-02,\n",
       "       3.52740116e-02, 2.66834962e-02, 2.01850863e-02, 1.52692775e-02,\n",
       "       1.15506485e-02, 8.73764200e-03, 6.60970574e-03, 5.00000000e-03])"
      ]
     },
     "execution_count": 54,
     "metadata": {},
     "output_type": "execute_result"
    }
   ],
   "source": [
    "alphas = 10**np.linspace(10,-2,100)*0.5\n",
    "alphas"
   ]
  },
  {
   "cell_type": "markdown",
   "metadata": {},
   "source": [
    "# Splitting data into Train and Test"
   ]
  },
  {
   "cell_type": "code",
   "execution_count": 55,
   "metadata": {},
   "outputs": [],
   "source": [
    "from sklearn.model_selection import train_test_split"
   ]
  },
  {
   "cell_type": "code",
   "execution_count": 56,
   "metadata": {},
   "outputs": [],
   "source": [
    "y = df.Symboling\n",
    "\n",
    "X = df.drop('Symboling', axis=1)"
   ]
  },
  {
   "cell_type": "code",
   "execution_count": 57,
   "metadata": {},
   "outputs": [],
   "source": [
    "\n",
    "X_train, X_test, y_train, y_test = train_test_split(X, y,test_size=0.3)"
   ]
  },
  {
   "cell_type": "code",
   "execution_count": 58,
   "metadata": {},
   "outputs": [
    {
     "name": "stdout",
     "output_type": "stream",
     "text": [
      "69.61% in training set\n",
      "30.39% in test set\n"
     ]
    }
   ],
   "source": [
    "print(\"{0:0.2f}% in training set\".format((len(X_train)/len(df.index)) * 100))\n",
    "print(\"{0:0.2f}% in test set\".format((len(X_test)/len(df.index)) * 100))"
   ]
  },
  {
   "cell_type": "code",
   "execution_count": 59,
   "metadata": {},
   "outputs": [
    {
     "data": {
      "text/plain": [
       "(100, 72)"
      ]
     },
     "execution_count": 59,
     "metadata": {},
     "output_type": "execute_result"
    }
   ],
   "source": [
    "ridge = Ridge(normalize = True)\n",
    "coefs = []\n",
    "\n",
    "for a in alphas:\n",
    "    ridge.set_params(alpha = a)\n",
    "    ridge.fit(X_train, y_train)\n",
    "    coefs.append(ridge.coef_)\n",
    "    \n",
    "np.shape(coefs)"
   ]
  },
  {
   "cell_type": "code",
   "execution_count": 60,
   "metadata": {},
   "outputs": [
    {
     "data": {
      "text/plain": [
       "(100, 72)"
      ]
     },
     "execution_count": 60,
     "metadata": {},
     "output_type": "execute_result"
    }
   ],
   "source": [
    "ridge = Ridge(normalize = True)\n",
    "coefs = []\n",
    "\n",
    "for a in alphas:\n",
    "    ridge.set_params(alpha = a)\n",
    "    ridge.fit(X_test, y_test)\n",
    "    coefs.append(ridge.coef_)\n",
    "    \n",
    "np.shape(coefs)"
   ]
  },
  {
   "cell_type": "code",
   "execution_count": 61,
   "metadata": {},
   "outputs": [
    {
     "data": {
      "text/plain": [
       "Text(0, 0.5, 'weights')"
      ]
     },
     "execution_count": 61,
     "metadata": {},
     "output_type": "execute_result"
    },
    {
     "data": {
      "image/png": "[encoded data removed]",
      "text/plain": [
       "<Figure size 432x288 with 1 Axes>"
      ]
     },
     "metadata": {
      "needs_background": "light"
     },
     "output_type": "display_data"
    }
   ],
   "source": [
    "ax = plt.gca()\n",
    "ax.plot(alphas, coefs)\n",
    "ax.set_xscale('log')\n",
    "plt.axis('tight')\n",
    "plt.xlabel('alpha')\n",
    "plt.ylabel('weights')"
   ]
  },
  {
   "cell_type": "markdown",
   "metadata": {},
   "source": [
    "# Naiive Bayes"
   ]
  },
  {
   "cell_type": "code",
   "execution_count": 62,
   "metadata": {},
   "outputs": [
    {
     "data": {
      "text/plain": [
       "GaussianNB(priors=None, var_smoothing=1e-09)"
      ]
     },
     "execution_count": 62,
     "metadata": {},
     "output_type": "execute_result"
    }
   ],
   "source": [
    "from sklearn.naive_bayes import GaussianNB\n",
    "\n",
    "nb_model = GaussianNB()\n",
    "\n",
    "nb_model.fit(X_train, y_train.ravel())"
   ]
  },
  {
   "cell_type": "code",
   "execution_count": 63,
   "metadata": {},
   "outputs": [
    {
     "name": "stdout",
     "output_type": "stream",
     "text": [
      "Accuracy: 0.7465\n",
      "\n"
     ]
    }
   ],
   "source": [
    "# predict values using the training data\n",
    "nb_predict_train = nb_model.predict(X_train)\n",
    "\n",
    "# import the performance metrics library\n",
    "from sklearn import metrics\n",
    "\n",
    "# Accuracy\n",
    "print(\"Accuracy: {0:.4f}\".format(metrics.accuracy_score(y_train, nb_predict_train)))\n",
    "print()"
   ]
  },
  {
   "cell_type": "code",
   "execution_count": 64,
   "metadata": {},
   "outputs": [
    {
     "name": "stdout",
     "output_type": "stream",
     "text": [
      "nb_predict_test [ 2.  2.  1.  0.  0.  1.  3.  2.  1. -2.  3.  1.  1.  1.  1. -1.  2.  0.\n",
      "  2. -1.  1.  1.  3.  1.  3.  3.  0.  0.  2.  1.  1.  1.  3.  2.  1.  3.\n",
      " -1. -1.  0.  3.  2.  1.  2. -1.  3.  1.  0.  2.  1.  2.  0.  1. -1.  1.\n",
      "  1. -1.  0.  1.  1.  0.  0.  2.]\n",
      "y_test 168    2.0\n",
      "185    2.0\n",
      "122   -1.0\n",
      "141    0.0\n",
      "108    0.0\n",
      "117    1.0\n",
      "71     3.0\n",
      "10     0.0\n",
      "26     1.0\n",
      "195   -2.0\n",
      "127    3.0\n",
      "30     2.0\n",
      "86     1.0\n",
      "118    1.0\n",
      "32     1.0\n",
      "201   -1.0\n",
      "8      0.0\n",
      "109    0.0\n",
      "2      2.0\n",
      "203   -1.0\n",
      "52     1.0\n",
      "25     1.0\n",
      "130    2.0\n",
      "159    0.0\n",
      "28     3.0\n",
      "54     3.0\n",
      "153    0.0\n",
      "129    0.0\n",
      "169    2.0\n",
      "42     0.0\n",
      "      ... \n",
      "1      1.0\n",
      "181    2.0\n",
      "119    1.0\n",
      "103    3.0\n",
      "198   -1.0\n",
      "67    -1.0\n",
      "101    0.0\n",
      "123    3.0\n",
      "38     0.0\n",
      "93     1.0\n",
      "134    2.0\n",
      "200   -1.0\n",
      "171    2.0\n",
      "80     3.0\n",
      "14     0.0\n",
      "158    0.0\n",
      "27    -1.0\n",
      "137    2.0\n",
      "15     0.0\n",
      "96     1.0\n",
      "72     0.0\n",
      "17     2.0\n",
      "149    1.0\n",
      "179   -1.0\n",
      "64     0.0\n",
      "37     0.0\n",
      "77     2.0\n",
      "100    0.0\n",
      "139    2.0\n",
      "157    0.0\n",
      "Name: Symboling, Length: 62, dtype: float64\n",
      "Accuracy: 0.6613\n"
     ]
    }
   ],
   "source": [
    "nb_predict_test = nb_model.predict(X_test)\n",
    "\n",
    "from sklearn import metrics\n",
    "\n",
    "# training metrics\n",
    "print(\"nb_predict_test\", nb_predict_test)\n",
    "print (\"y_test\", y_test)\n",
    "print(\"Accuracy: {0:.4f}\".format(metrics.accuracy_score(y_test, nb_predict_test)))"
   ]
  },
  {
   "cell_type": "markdown",
   "metadata": {},
   "source": [
    "# Metrics"
   ]
  },
  {
   "cell_type": "code",
   "execution_count": 65,
   "metadata": {},
   "outputs": [
    {
     "name": "stdout",
     "output_type": "stream",
     "text": [
      "Confusion Matrix\n",
      "[[ 1  0  0  0  0  0]\n",
      " [ 0  6  0  3  0  0]\n",
      " [ 0  1 10  3  5  0]\n",
      " [ 0  0  0 11  0  1]\n",
      " [ 0  0  1  4  7  2]\n",
      " [ 0  0  0  1  0  6]]\n",
      "\n",
      "Classification Report\n",
      "              precision    recall  f1-score   support\n",
      "\n",
      "        -2.0       1.00      1.00      1.00         1\n",
      "        -1.0       0.86      0.67      0.75         9\n",
      "         0.0       0.91      0.53      0.67        19\n",
      "         1.0       0.50      0.92      0.65        12\n",
      "         2.0       0.58      0.50      0.54        14\n",
      "         3.0       0.67      0.86      0.75         7\n",
      "\n",
      "   micro avg       0.66      0.66      0.66        62\n",
      "   macro avg       0.75      0.74      0.73        62\n",
      "weighted avg       0.72      0.66      0.66        62\n",
      "\n"
     ]
    }
   ],
   "source": [
    "print(\"Confusion Matrix\")\n",
    "print(\"{0}\".format(metrics.confusion_matrix(y_test, nb_predict_test)))\n",
    "print(\"\")\n",
    "\n",
    "print(\"Classification Report\")\n",
    "print(metrics.classification_report(y_test, nb_predict_test))"
   ]
  },
  {
   "cell_type": "markdown",
   "metadata": {},
   "source": [
    "## Ridge Regression"
   ]
  },
  {
   "cell_type": "code",
   "execution_count": 66,
   "metadata": {},
   "outputs": [
    {
     "name": "stdout",
     "output_type": "stream",
     "text": [
      "linear regression train score: 0.871670887948159\n",
      "linear regression test score: 0.5618690128001811\n",
      "ridge regression train score low alpha: 0.8715563930379681\n",
      "ridge regression test score low alpha: 0.5759619428401419\n",
      "ridge regression train score high alpha: 0.6383422961036496\n",
      "ridge regression test score high alpha: 0.5364817205615846\n"
     ]
    },
    {
     "data": {
      "image/png": "[encoded data removed]",
      "text/plain": [
       "<Figure size 432x288 with 1 Axes>"
      ]
     },
     "metadata": {
      "needs_background": "light"
     },
     "output_type": "display_data"
    }
   ],
   "source": [
    "import matplotlib\n",
    "matplotlib.rcParams.update({'font.size': 12})\n",
    "\n",
    "from sklearn.model_selection import train_test_split\n",
    "from sklearn.linear_model import LinearRegression\n",
    "from sklearn.linear_model import Ridge\n",
    "\n",
    "\n",
    "\n",
    "lr = LinearRegression()\n",
    "lr.fit(X_train, y_train)\n",
    "rr = Ridge(alpha=0.01) # higher the alpha value, more restriction on the coefficients; low alpha > more generalization, coefficients are barely\n",
    "# restricted and in this case linear and ridge regression resembles\n",
    "rr.fit(X_train, y_train)\n",
    "rr100 = Ridge(alpha=100) #  comparison with alpha value\n",
    "rr100.fit(X_train, y_train)\n",
    "train_score=lr.score(X_train, y_train)\n",
    "test_score=lr.score(X_test, y_test)\n",
    "Ridge_train_score = rr.score(X_train,y_train)\n",
    "Ridge_test_score = rr.score(X_test, y_test)\n",
    "Ridge_train_score100 = rr100.score(X_train,y_train)\n",
    "Ridge_test_score100 = rr100.score(X_test, y_test)\n",
    "print (\"linear regression train score:\", train_score)\n",
    "print (\"linear regression test score:\", test_score)\n",
    "print (\"ridge regression train score low alpha:\", Ridge_train_score)\n",
    "print (\"ridge regression test score low alpha:\", Ridge_test_score)\n",
    "print (\"ridge regression train score high alpha:\", Ridge_train_score100)\n",
    "print (\"ridge regression test score high alpha:\", Ridge_test_score100)\n",
    "plt.plot(rr.coef_,alpha=0.7,linestyle='none',marker='*',markersize=5,color='red',label=r'Ridge; $\\alpha = 0.01$',zorder=7) # zorder for ordering the markers\n",
    "plt.plot(rr100.coef_,alpha=0.5,linestyle='none',marker='d',markersize=6,color='blue',label=r'Ridge; $\\alpha = 100$') # alpha here is for transparency\n",
    "plt.plot(lr.coef_,alpha=0.4,linestyle='none',marker='o',markersize=7,color='green',label='Linear Regression')\n",
    "\n",
    "\n",
    "\n",
    "plt.legend(fontsize=13,loc=4)\n",
    "plt.show()\n"
   ]
  },
  {
   "cell_type": "code",
   "execution_count": 67,
   "metadata": {},
   "outputs": [
    {
     "name": "stdout",
     "output_type": "stream",
     "text": [
      "0.9109811479897879\n"
     ]
    }
   ],
   "source": [
    "ridge2 = Ridge(alpha = 4, normalize = True)\n",
    "ridge2.fit(X_train, y_train)             # Fit a ridge regression on the training data\n",
    "pred2 = ridge2.predict(X_test)           # Use this model to predict the test data\n",
    "\n",
    "print(mean_squared_error(pred2, y_test))          # Calculate the test MSE"
   ]
  },
  {
   "cell_type": "code",
   "execution_count": 68,
   "metadata": {},
   "outputs": [
    {
     "name": "stdout",
     "output_type": "stream",
     "text": [
      "Normalized_losses          1.675833e-12\n",
      "Wheel_base                -1.036913e-11\n",
      "Length                    -3.148012e-12\n",
      "Width                     -1.266704e-11\n",
      "Height                    -2.549370e-11\n",
      "Curb_weight               -4.749360e-14\n",
      "Engine_size               -2.988360e-13\n",
      "Bore                      -5.359753e-11\n",
      "Stroke                    -4.675264e-12\n",
      "Compression_ratio         -6.185081e-12\n",
      "Horse_power                4.220653e-13\n",
      "Peak_RPM                   8.748255e-14\n",
      "City_mpg                  -2.079890e-12\n",
      "Price                     -1.012321e-15\n",
      "Isstd                      7.559682e-12\n",
      "Istwo                      1.589557e-10\n",
      "Make_alfa-romero           2.184397e-10\n",
      "Make_audi                  5.897810e-11\n",
      "Make_bmw                  -2.394161e-11\n",
      "Make_chevrolet            -3.357143e-11\n",
      "Make_dodge                 1.751825e-11\n",
      "Make_honda                -2.940685e-11\n",
      "Make_isuzu                 1.726619e-11\n",
      "Make_jaguar               -8.489209e-11\n",
      "Make_mazda                 2.667411e-11\n",
      "Make_mercedes-benz        -1.275912e-10\n",
      "Make_mercury               1.702128e-11\n",
      "Make_mitsubishi            1.371269e-10\n",
      "Make_nissan                1.860465e-11\n",
      "Make_peugot               -8.872180e-11\n",
      "                               ...     \n",
      "Body_style_hatchback       1.073582e-10\n",
      "Body_style_sedan          -9.063492e-11\n",
      "Body_style_wagon          -1.003675e-10\n",
      "Drive_wheels_4wd          -5.196078e-11\n",
      "Drive_wheels_fwd           2.452012e-11\n",
      "Drive_wheels_rwd          -1.646197e-11\n",
      "Engine_location_front     -2.200000e-10\n",
      "Engine_location_rear       2.200000e-10\n",
      "Engine_type_dohc           7.196970e-11\n",
      "Engine_type_dohcv          1.702128e-11\n",
      "Engine_type_l             -8.872180e-11\n",
      "Engine_type_ohc           -1.308824e-11\n",
      "Engine_type_ohcf          -1.124219e-11\n",
      "Engine_type_ohcv          -1.715686e-11\n",
      "Engine_type_rotor          2.215827e-10\n",
      "Num_of_cylinders_eight    -5.083933e-11\n",
      "Num_of_cylinders_five     -2.940685e-11\n",
      "Num_of_cylinders_four     -1.749491e-11\n",
      "Num_of_cylinders_six       1.889764e-11\n",
      "Num_of_cylinders_three     0.000000e+00\n",
      "Num_of_cylinders_twelve   -8.368794e-11\n",
      "Num_of_cylinders_two       2.215827e-10\n",
      "Fuel_system_1bbl          -2.730159e-11\n",
      "Fuel_system_2bbl          -1.926092e-11\n",
      "Fuel_system_4bbl           2.200000e-10\n",
      "Fuel_system_idi           -8.545932e-11\n",
      "Fuel_system_mfi            0.000000e+00\n",
      "Fuel_system_mpfi           1.414585e-11\n",
      "Fuel_system_spdi           1.833577e-10\n",
      "Fuel_system_spfi           1.177305e-10\n",
      "Length: 72, dtype: float64\n",
      "1.6728183722822219\n"
     ]
    }
   ],
   "source": [
    "ridge3 = Ridge(alpha = 10**10, normalize = True)\n",
    "ridge3.fit(X_train, y_train)             # Fit a ridge regression on the training data\n",
    "pred3 = ridge3.predict(X_test)           # Use this model to predict the test data\n",
    "print(pd.Series(ridge3.coef_, index = X.columns)) # Print coefficients\n",
    "print(mean_squared_error(y_test, pred3))          # Calculate the test MSE"
   ]
  },
  {
   "cell_type": "code",
   "execution_count": 69,
   "metadata": {},
   "outputs": [
    {
     "name": "stdout",
     "output_type": "stream",
     "text": [
      "Normalized_losses          1.188928e-03\n",
      "Wheel_base                -6.659895e-02\n",
      "Length                    -2.401459e-02\n",
      "Width                     -3.358932e-03\n",
      "Height                    -1.215238e-02\n",
      "Curb_weight                5.230745e-04\n",
      "Engine_size                1.308901e-02\n",
      "Bore                       5.180828e-01\n",
      "Stroke                    -6.814481e-01\n",
      "Compression_ratio          2.173740e-01\n",
      "Horse_power                7.082329e-03\n",
      "Peak_RPM                   2.173497e-04\n",
      "City_mpg                   2.653473e-02\n",
      "Price                     -1.809020e-05\n",
      "Isstd                     -3.065325e-02\n",
      "Istwo                      6.078908e-01\n",
      "Make_alfa-romero          -2.866480e+11\n",
      "Make_audi                 -2.866480e+11\n",
      "Make_bmw                  -2.866480e+11\n",
      "Make_chevrolet            -2.866480e+11\n",
      "Make_dodge                -2.866480e+11\n",
      "Make_honda                -2.866480e+11\n",
      "Make_isuzu                -2.866480e+11\n",
      "Make_jaguar               -2.866480e+11\n",
      "Make_mazda                -2.866480e+11\n",
      "Make_mercedes-benz        -2.866480e+11\n",
      "Make_mercury              -2.866480e+11\n",
      "Make_mitsubishi           -2.866480e+11\n",
      "Make_nissan               -2.866480e+11\n",
      "Make_peugot                4.052058e+12\n",
      "                               ...     \n",
      "Body_style_hatchback       1.554879e+12\n",
      "Body_style_sedan           1.554879e+12\n",
      "Body_style_wagon           1.554879e+12\n",
      "Drive_wheels_4wd           3.767840e+12\n",
      "Drive_wheels_fwd           3.767840e+12\n",
      "Drive_wheels_rwd           3.767840e+12\n",
      "Engine_location_front     -9.831535e+12\n",
      "Engine_location_rear      -5.644062e+12\n",
      "Engine_type_dohc          -3.931157e+12\n",
      "Engine_type_dohcv         -3.931157e+12\n",
      "Engine_type_l             -8.269863e+12\n",
      "Engine_type_ohc           -3.931157e+12\n",
      "Engine_type_ohcf          -8.118630e+12\n",
      "Engine_type_ohcv          -3.931157e+12\n",
      "Engine_type_rotor         -4.908443e+11\n",
      "Num_of_cylinders_eight     2.946621e+12\n",
      "Num_of_cylinders_five      2.946621e+12\n",
      "Num_of_cylinders_four      2.946621e+12\n",
      "Num_of_cylinders_six       2.946621e+12\n",
      "Num_of_cylinders_three     0.000000e+00\n",
      "Num_of_cylinders_twelve    2.946621e+12\n",
      "Num_of_cylinders_two      -4.936910e+11\n",
      "Fuel_system_1bbl           3.688666e+12\n",
      "Fuel_system_2bbl           3.688666e+12\n",
      "Fuel_system_4bbl           3.688666e+12\n",
      "Fuel_system_idi            5.022290e+12\n",
      "Fuel_system_mfi            0.000000e+00\n",
      "Fuel_system_mpfi           3.688666e+12\n",
      "Fuel_system_spdi           3.688666e+12\n",
      "Fuel_system_spfi           3.688666e+12\n",
      "Length: 72, dtype: float64\n",
      "1.0950558348260242e+24\n"
     ]
    }
   ],
   "source": [
    "ridge2 = Ridge(alpha = 0, normalize = True)\n",
    "ridge2.fit(X_train, y_train)             # Fit a ridge regression on the training data\n",
    "pred = ridge2.predict(X_test)            # Use this model to predict the test data\n",
    "print(pd.Series(ridge2.coef_, index = X.columns)) # Print coefficients\n",
    "print(mean_squared_error(y_test, pred))           # Calculate the test MSE"
   ]
  },
  {
   "cell_type": "markdown",
   "metadata": {},
   "source": [
    "## Using Cross-validation to tune hyperparameter (alpha)"
   ]
  },
  {
   "cell_type": "code",
   "execution_count": 70,
   "metadata": {},
   "outputs": [
    {
     "data": {
      "text/plain": [
       "0.18824679033962358"
      ]
     },
     "execution_count": 70,
     "metadata": {},
     "output_type": "execute_result"
    }
   ],
   "source": [
    "ridgecv = RidgeCV(alphas = alphas, scoring = 'neg_mean_squared_error', normalize = True)\n",
    "ridgecv.fit(X_train, y_train)\n",
    "ridgecv.alpha_"
   ]
  },
  {
   "cell_type": "code",
   "execution_count": 71,
   "metadata": {
    "scrolled": true
   },
   "outputs": [
    {
     "data": {
      "text/plain": [
       "0.5754391143325962"
      ]
     },
     "execution_count": 71,
     "metadata": {},
     "output_type": "execute_result"
    }
   ],
   "source": [
    "ridge4 = Ridge(alpha = ridgecv.alpha_, normalize = True)\n",
    "ridge4.fit(X_train, y_train)\n",
    "mean_squared_error(y_test, ridge4.predict(X_test))"
   ]
  },
  {
   "cell_type": "code",
   "execution_count": 72,
   "metadata": {},
   "outputs": [
    {
     "data": {
      "text/plain": [
       "Normalized_losses          0.004867\n",
       "Wheel_base                -0.036156\n",
       "Length                    -0.005214\n",
       "Width                     -0.007178\n",
       "Height                    -0.031630\n",
       "Curb_weight                0.000002\n",
       "Engine_size                0.001187\n",
       "Bore                       0.105503\n",
       "Stroke                    -0.064226\n",
       "Compression_ratio          0.005769\n",
       "Horse_power                0.001241\n",
       "Peak_RPM                   0.000080\n",
       "City_mpg                  -0.000268\n",
       "Price                      0.000003\n",
       "Isstd                      0.091040\n",
       "Istwo                      0.546729\n",
       "Make_alfa-romero           0.238335\n",
       "Make_audi                  1.086606\n",
       "Make_bmw                  -0.168874\n",
       "Make_chevrolet            -0.343719\n",
       "Make_dodge                -0.247175\n",
       "Make_honda                -0.174184\n",
       "Make_isuzu                -0.298717\n",
       "Make_jaguar               -0.406991\n",
       "Make_mazda                -0.167927\n",
       "Make_mercedes-benz        -0.427082\n",
       "Make_mercury              -0.135577\n",
       "Make_mitsubishi            0.379194\n",
       "Make_nissan               -0.036145\n",
       "Make_peugot               -0.027043\n",
       "                             ...   \n",
       "Body_style_hatchback       0.117555\n",
       "Body_style_sedan          -0.178821\n",
       "Body_style_wagon          -0.166411\n",
       "Drive_wheels_4wd           0.053648\n",
       "Drive_wheels_fwd          -0.035205\n",
       "Drive_wheels_rwd           0.027320\n",
       "Engine_location_front     -0.017334\n",
       "Engine_location_rear       0.017334\n",
       "Engine_type_dohc           0.212760\n",
       "Engine_type_dohcv         -0.990740\n",
       "Engine_type_l             -0.027043\n",
       "Engine_type_ohc           -0.005122\n",
       "Engine_type_ohcf          -0.112945\n",
       "Engine_type_ohcv          -0.198033\n",
       "Engine_type_rotor          0.567068\n",
       "Num_of_cylinders_eight    -0.064450\n",
       "Num_of_cylinders_five     -0.261275\n",
       "Num_of_cylinders_four      0.001076\n",
       "Num_of_cylinders_six       0.109255\n",
       "Num_of_cylinders_three     0.000000\n",
       "Num_of_cylinders_twelve   -0.770775\n",
       "Num_of_cylinders_two       0.567068\n",
       "Fuel_system_1bbl          -0.223603\n",
       "Fuel_system_2bbl          -0.017505\n",
       "Fuel_system_4bbl           0.209445\n",
       "Fuel_system_idi           -0.001939\n",
       "Fuel_system_mfi            0.000000\n",
       "Fuel_system_mpfi          -0.049582\n",
       "Fuel_system_spdi           0.569272\n",
       "Fuel_system_spfi           0.657584\n",
       "Length: 72, dtype: float64"
      ]
     },
     "execution_count": 72,
     "metadata": {},
     "output_type": "execute_result"
    }
   ],
   "source": [
    "ridge4.fit(X_train, y_train)\n",
    "pd.Series(ridge4.coef_, index = X.columns)"
   ]
  },
  {
   "cell_type": "markdown",
   "metadata": {},
   "source": [
    "## Prediction "
   ]
  },
  {
   "cell_type": "code",
   "execution_count": 73,
   "metadata": {},
   "outputs": [
    {
     "data": {
      "text/plain": [
       "array([ 1.13269566,  1.04181246, -0.03608798,  0.15136898, -0.44296556,\n",
       "        1.68470743,  1.63099532,  0.61058549,  0.51006642, -0.99195538,\n",
       "        3.15835912,  1.59416355,  1.47143292,  2.22798171,  1.07611858,\n",
       "       -1.19947796,  2.12832118, -0.44321359,  1.61487231, -1.26658653,\n",
       "        0.32645803,  0.59101999,  1.39603923,  0.0344528 ,  1.34086274,\n",
       "        2.95642446, -0.14589665,  0.39159857,  1.54543211,  0.319177  ,\n",
       "        2.11170275,  1.62088053,  1.68864743,  1.73467375,  1.31809311,\n",
       "        2.10327068, -1.24859154, -0.93581689,  0.18139798,  2.26686366,\n",
       "       -0.09586204,  1.05729078,  1.62900356, -1.230753  ,  1.68304418,\n",
       "        1.98315364,  0.37040631,  0.38807944, -0.26706391,  1.10142925,\n",
       "        0.97607623,  0.4093915 , -0.95081961,  1.30624318,  0.81851344,\n",
       "        0.14819375,  0.11709702,  0.91656843,  2.11309041,  0.31028315,\n",
       "        1.10318233,  0.08673623])"
      ]
     },
     "execution_count": 73,
     "metadata": {},
     "output_type": "execute_result"
    }
   ],
   "source": [
    "finaly = ridge4.predict(X_test)\n",
    "finaly"
   ]
  },
  {
   "cell_type": "code",
   "execution_count": 74,
   "metadata": {},
   "outputs": [
    {
     "data": {
      "text/plain": [
       "Text(0, 0.5, 'Symboling')"
      ]
     },
     "execution_count": 74,
     "metadata": {},
     "output_type": "execute_result"
    },
    {
     "data": {
      "image/png": "[encoded data removed]",
      "text/plain": [
       "<Figure size 432x288 with 1 Axes>"
      ]
     },
     "metadata": {
      "needs_background": "light"
     },
     "output_type": "display_data"
    }
   ],
   "source": [
    "plt.plot(finaly,alpha=ridgecv.alpha_,linestyle='none',marker='*',markersize=5,color='red',label=r'Ridge; $\\alpha = ridgecv.alpha_$',zorder=7) # zorder for ordering the markers\n",
    "plt.xlabel('Coefficient Index')\n",
    "plt.ylabel('Symboling')"
   ]
  },
  {
   "cell_type": "code",
   "execution_count": 75,
   "metadata": {},
   "outputs": [
    {
     "data": {
      "image/png": "[encoded data removed]",
      "text/plain": [
       "<Figure size 432x288 with 1 Axes>"
      ]
     },
     "metadata": {
      "needs_background": "light"
     },
     "output_type": "display_data"
    },
    {
     "data": {
      "text/plain": [
       "Text(0, 0.5, 'Symboling')"
      ]
     },
     "execution_count": 75,
     "metadata": {},
     "output_type": "execute_result"
    },
    {
     "data": {
      "image/png": "[encoded data removed]",
      "text/plain": [
       "<Figure size 432x288 with 1 Axes>"
      ]
     },
     "metadata": {
      "needs_background": "light"
     },
     "output_type": "display_data"
    }
   ],
   "source": [
    "a = np.linspace(0, 20, 20)\n",
    "s = [1.44241683,  0.9466379 ,  2.63315318,  0.22613603,  1.62847343, 1.51662927,  0.71512558,  1.24197318,  1.62529167, -0.37551353, 0.38202226,  1.9525528 ,  1.47323095,  0.3181132 ,  0.93573108, 0.4676778 ,  0.71229071,  0.50452338,  0.75531675,  1.10195787]\n",
    "plt.plot(a, s)\n",
    "plt.show()\n",
    "plt.xlabel('Coefficient Index')\n",
    "plt.ylabel('Symboling')"
   ]
  },
  {
   "cell_type": "markdown",
   "metadata": {},
   "source": [
    "## SVR- Support Vector Regression"
   ]
  },
  {
   "cell_type": "code",
   "execution_count": 76,
   "metadata": {},
   "outputs": [],
   "source": [
    "from sklearn.svm import SVR\n",
    "from sklearn.model_selection import GridSearchCV\n",
    "from sklearn.model_selection import learning_curve\n",
    "from sklearn.kernel_ridge import KernelRidge\n",
    "import random\n",
    "import math"
   ]
  },
  {
   "cell_type": "code",
   "execution_count": 77,
   "metadata": {},
   "outputs": [
    {
     "name": "stdout",
     "output_type": "stream",
     "text": [
      "SVR(C=1000.0, cache_size=200, coef0=0.0, degree=3, epsilon=0.1, gamma='scale',\n",
      "  kernel='rbf', max_iter=-1, shrinking=True, tol=0.001, verbose=False)\n",
      "0.9934521131108488\n",
      "Mean Squared Error, predicted for train values: 0.009588673083855212\n",
      "Mean Squared Error, predicted for test values: 1.785019468733085\n",
      "Root Mean Squared Error, predicted for train values: 0.09792177022427245\n",
      "Root Mean Squared Error, predicted for test values: 1.3360462075591117\n"
     ]
    },
    {
     "data": {
      "text/plain": [
       "array([ 0.65912362,  0.77954107,  0.93373661,  1.11100064,  1.26346309,\n",
       "        1.30187474,  0.78770316,  0.98361398,  0.91984088,  1.92850158,\n",
       "        0.82873654,  1.41076159,  0.55370379,  1.10002829,  1.17277652,\n",
       "        0.99175909, -1.25362822,  0.81016562,  0.96160376,  0.81100994,\n",
       "        1.12846202,  0.81217433,  0.25418593,  1.53107908,  1.05193842,\n",
       "        0.80889704,  1.74140538,  0.26008527,  1.20719463,  0.27631432,\n",
       "        1.15261893,  0.55803891,  1.63069125,  1.65448786,  1.10696808,\n",
       "        0.74039762,  0.50702287,  0.39478973,  1.312466  ,  2.31606519,\n",
       "        0.78095951,  1.09660111,  0.96759947,  0.82922206,  0.79712085,\n",
       "        0.07202388,  0.83127709,  1.29361807,  0.97327871,  0.88843915,\n",
       "        0.83127742,  1.69823349,  0.83127742,  0.72989863,  0.8553942 ,\n",
       "       -1.1853738 , -0.1203184 ,  0.78152326,  0.93862465, -0.056727  ,\n",
       "        0.99113985,  1.2962505 ])"
      ]
     },
     "execution_count": 77,
     "metadata": {},
     "output_type": "execute_result"
    }
   ],
   "source": [
    "model = SVR(gamma='scale', C=1e3)\n",
    "\n",
    "\n",
    "\n",
    "print(model)\n",
    "\n",
    "model.fit(X_train,y_train)\n",
    "pred_y = model.predict(X_train)\n",
    "pred_y1 = model.predict(X_test)\n",
    "\n",
    "\n",
    "\n",
    "score=model.score(X_train,y_train)\n",
    "print(score)\n",
    "\n",
    "mse_train =mean_squared_error(y_train, pred_y)\n",
    "print(\"Mean Squared Error, predicted for train values:\",mse_train)\n",
    "\n",
    "mse_test =mean_squared_error(y_test, pred_y1)\n",
    "print(\"Mean Squared Error, predicted for test values:\",mse_test)\n",
    "\n",
    "\n",
    "rmse_train = math.sqrt(mse_train)\n",
    "print(\"Root Mean Squared Error, predicted for train values:\", rmse_train)\n",
    "\n",
    "rmse_test = math.sqrt(mse_test)\n",
    "print(\"Root Mean Squared Error, predicted for test values:\", rmse_test)\n",
    "\n",
    "pred_y1\n"
   ]
  },
  {
   "cell_type": "code",
   "execution_count": 78,
   "metadata": {},
   "outputs": [
    {
     "name": "stdout",
     "output_type": "stream",
     "text": [
      "SVR complexity and bandwidth selected and model fitted in 0.733 s\n",
      "Support vector ratio: 1.000\n"
     ]
    }
   ],
   "source": [
    "import time\n",
    "\n",
    "train_size = 143\n",
    "svr = GridSearchCV(SVR(kernel='rbf', gamma=0.1), cv=5, iid=False,\n",
    "                   param_grid={\"C\": [1e0, 1e1, 1e2, 1e3],\n",
    "                               \"gamma\": np.logspace(-2, 2, 5)})\n",
    "\n",
    "t0 = time.time()\n",
    "svr.fit(X[:train_size], y[:train_size])\n",
    "svr_fit = time.time() - t0\n",
    "print(\"SVR complexity and bandwidth selected and model fitted in %.3f s\"\n",
    "      % svr_fit)\n",
    "sv_ratio = svr.best_estimator_.support_.shape[0] / train_size\n",
    "print(\"Support vector ratio: %.3f\" % sv_ratio)"
   ]
  },
  {
   "cell_type": "code",
   "execution_count": 79,
   "metadata": {},
   "outputs": [],
   "source": [
    "svr = SVR(kernel='rbf', C=1e1, gamma=0.1)\n",
    "train_sizes, train_scores_svr, test_scores_svr = \\\n",
    "    learning_curve(svr, X[:100], y[:100], train_sizes=np.linspace(0.1, 1, 10),\n",
    "                   scoring=\"neg_mean_squared_error\", cv=10)"
   ]
  },
  {
   "cell_type": "code",
   "execution_count": 80,
   "metadata": {},
   "outputs": [
    {
     "data": {
      "text/plain": [
       "Text(0, 0.5, 'Predicted Test scores')"
      ]
     },
     "execution_count": 80,
     "metadata": {},
     "output_type": "execute_result"
    },
    {
     "data": {
      "image/png": "[encoded data removed]",
      "text/plain": [
       "<Figure size 432x288 with 1 Axes>"
      ]
     },
     "metadata": {
      "needs_background": "light"
     },
     "output_type": "display_data"
    }
   ],
   "source": [
    "trace7 = plt.scatter(x=train_sizes, y=test_scores_svr.mean(0))\n",
    "plt.xlabel('Train sizes')\n",
    "plt.ylabel('Predicted Test scores')"
   ]
  },
  {
   "cell_type": "markdown",
   "metadata": {},
   "source": [
    "## Thank You !"
   ]
  }
 ],
 "metadata": {
  "kernelspec": {
   "display_name": "Python 3",
   "language": "python",
   "name": "python3"
  },
  "language_info": {
   "codemirror_mode": {
    "name": "ipython",
    "version": 3
   },
   "file_extension": ".py",
   "mimetype": "text/x-python",
   "name": "python",
   "nbconvert_exporter": "python",
   "pygments_lexer": "ipython3",
   "version": "3.7.1"
  }
 },
 "nbformat": 4,
 "nbformat_minor": 2
}
